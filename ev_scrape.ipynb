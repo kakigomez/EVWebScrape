{
 "cells": [
  {
   "cell_type": "code",
   "execution_count": 41,
   "metadata": {},
   "outputs": [],
   "source": [
    "import pandas as pd\n",
    "import requests\n",
    "import time\n",
    "from selenium import webdriver\n",
    "from selenium.webdriver.common.by import By\n",
    "from webdriver_manager.chrome import ChromeDriverManager\n"
   ]
  },
  {
   "cell_type": "code",
   "execution_count": 43,
   "metadata": {},
   "outputs": [],
   "source": [
    "pd.set_option('display.max_rows', 500)\n",
    "pd.set_option('display.max_columns', 500)\n",
    "pd.set_option('display.width', 1000)"
   ]
  },
  {
   "attachments": {},
   "cell_type": "markdown",
   "metadata": {},
   "source": [
    "### Create Driver"
   ]
  },
  {
   "cell_type": "code",
   "execution_count": 5,
   "metadata": {},
   "outputs": [
    {
     "name": "stderr",
     "output_type": "stream",
     "text": [
      "C:\\Users\\kagom\\AppData\\Local\\Temp\\ipykernel_5416\\1132155773.py:1: DeprecationWarning: executable_path has been deprecated, please pass in a Service object\n",
      "  driver = webdriver.Chrome(ChromeDriverManager().install())\n"
     ]
    }
   ],
   "source": [
    "driver = webdriver.Chrome(ChromeDriverManager().install())\n",
    "\n",
    "page_url = \"https://evehiclesdb.com/category/transport/electric-cars/\"\n",
    "driver.get(page_url)"
   ]
  },
  {
   "attachments": {},
   "cell_type": "markdown",
   "metadata": {},
   "source": [
    "### Find EV Vehicles from Database"
   ]
  },
  {
   "cell_type": "code",
   "execution_count": 6,
   "metadata": {},
   "outputs": [],
   "source": [
    "from selenium.webdriver.common.by import By\n",
    "\n",
    "ev_categories = driver.find_elements(By.CLASS_NAME, \"brand_list_item\")"
   ]
  },
  {
   "cell_type": "code",
   "execution_count": 8,
   "metadata": {},
   "outputs": [
    {
     "data": {
      "text/plain": [
       "'https://evehiclesdb.com/brands/aiways?category=electric-cars'"
      ]
     },
     "execution_count": 8,
     "metadata": {},
     "output_type": "execute_result"
    }
   ],
   "source": [
    "ev_categories[0].get_attribute('href')"
   ]
  },
  {
   "cell_type": "code",
   "execution_count": 15,
   "metadata": {},
   "outputs": [],
   "source": [
    "ev_element = driver.find_elements(By.CLASS_NAME, \"top_cars_list_item\")"
   ]
  },
  {
   "cell_type": "code",
   "execution_count": 16,
   "metadata": {},
   "outputs": [
    {
     "data": {
      "text/plain": [
       "[<selenium.webdriver.remote.webelement.WebElement (session=\"9327e42da3dd67b085338629a19eb975\", element=\"8434163d-aa15-4a25-9744-a58dc5479de8\")>,\n",
       " <selenium.webdriver.remote.webelement.WebElement (session=\"9327e42da3dd67b085338629a19eb975\", element=\"6bd27c8d-2a2f-4b88-9264-c390f52b09de\")>,\n",
       " <selenium.webdriver.remote.webelement.WebElement (session=\"9327e42da3dd67b085338629a19eb975\", element=\"ece836ec-c0f2-48bd-b704-90563b62b425\")>,\n",
       " <selenium.webdriver.remote.webelement.WebElement (session=\"9327e42da3dd67b085338629a19eb975\", element=\"033bb8a8-ec7d-4fae-960e-6320d5a6a7b5\")>,\n",
       " <selenium.webdriver.remote.webelement.WebElement (session=\"9327e42da3dd67b085338629a19eb975\", element=\"1745739a-cce5-4cab-b8a8-7f487ff23bc2\")>,\n",
       " <selenium.webdriver.remote.webelement.WebElement (session=\"9327e42da3dd67b085338629a19eb975\", element=\"aa735936-9a51-440a-b365-c40307c1b940\")>,\n",
       " <selenium.webdriver.remote.webelement.WebElement (session=\"9327e42da3dd67b085338629a19eb975\", element=\"ab23b20f-42c3-4bd1-88da-f32643a9818a\")>,\n",
       " <selenium.webdriver.remote.webelement.WebElement (session=\"9327e42da3dd67b085338629a19eb975\", element=\"a280562d-196a-4014-bea5-28213700675a\")>,\n",
       " <selenium.webdriver.remote.webelement.WebElement (session=\"9327e42da3dd67b085338629a19eb975\", element=\"cf2a17e2-f287-4b9a-bed0-ad9ae9518cd5\")>]"
      ]
     },
     "execution_count": 16,
     "metadata": {},
     "output_type": "execute_result"
    }
   ],
   "source": [
    "ev_element"
   ]
  },
  {
   "attachments": {},
   "cell_type": "markdown",
   "metadata": {},
   "source": [
    "# Full Code"
   ]
  },
  {
   "cell_type": "code",
   "execution_count": 17,
   "metadata": {},
   "outputs": [
    {
     "name": "stderr",
     "output_type": "stream",
     "text": [
      "C:\\Users\\kagom\\AppData\\Local\\Temp\\ipykernel_5416\\3269401552.py:2: DeprecationWarning: executable_path has been deprecated, please pass in a Service object\n",
      "  driver = webdriver.Chrome(ChromeDriverManager().install())\n"
     ]
    }
   ],
   "source": [
    "# Create Driver\n",
    "driver = webdriver.Chrome(ChromeDriverManager().install())\n",
    "\n",
    "#Go to the EVs DB page\n",
    "page_url = \"https://evehiclesdb.com/category/transport/electric-cars/\"\n",
    "driver.get(page_url)\n",
    "\n",
    "#Find EV makes\n",
    "ev_make = driver.find_elements(By.CLASS_NAME, \"brand_list_item\")\n",
    "\n",
    "ev_makes = [] #creates an empty list\n",
    "for make in ev_make:\n",
    "    make_url = make.get_attribute('href')\n",
    "    make_name = make.text\n",
    "    ev_makes.append({'ev make' : make_name, 'url': make_url})"
   ]
  },
  {
   "cell_type": "code",
   "execution_count": 18,
   "metadata": {},
   "outputs": [
    {
     "data": {
      "text/plain": [
       "[{'ev make': 'Aiways (1)',\n",
       "  'url': 'https://evehiclesdb.com/brands/aiways?category=electric-cars'},\n",
       " {'ev make': 'Aston Martin (1)',\n",
       "  'url': 'https://evehiclesdb.com/brands/aston-martin?category=electric-cars'},\n",
       " {'ev make': 'Audi (13)',\n",
       "  'url': 'https://evehiclesdb.com/brands/audi?category=electric-cars'},\n",
       " {'ev make': 'BAIC (1)',\n",
       "  'url': 'https://evehiclesdb.com/brands/baic?category=electric-cars'},\n",
       " {'ev make': 'BMW (9)',\n",
       "  'url': 'https://evehiclesdb.com/brands/bmw?category=electric-cars'},\n",
       " {'ev make': 'Byton (3)',\n",
       "  'url': 'https://evehiclesdb.com/brands/byton?category=electric-cars'},\n",
       " {'ev make': 'Citroen (8)',\n",
       "  'url': 'https://evehiclesdb.com/brands/citroen?category=electric-cars'},\n",
       " {'ev make': 'CUPRA (4)',\n",
       "  'url': 'https://evehiclesdb.com/brands/cupra?category=electric-cars'},\n",
       " {'ev make': 'Dacia (1)',\n",
       "  'url': 'https://evehiclesdb.com/brands/dacia?category=electric-cars'},\n",
       " {'ev make': 'DS (1)',\n",
       "  'url': 'https://evehiclesdb.com/brands/ds?category=electric-cars'},\n",
       " {'ev make': 'Fiat (10)',\n",
       "  'url': 'https://evehiclesdb.com/brands/fiat?category=electric-cars'},\n",
       " {'ev make': 'Fisker (4)',\n",
       "  'url': 'https://evehiclesdb.com/brands/fisker?category=electric-cars'},\n",
       " {'ev make': 'Ford (5)',\n",
       "  'url': 'https://evehiclesdb.com/brands/ford?category=electric-cars'},\n",
       " {'ev make': 'Genesis (2)',\n",
       "  'url': 'https://evehiclesdb.com/brands/genesis?category=electric-cars'},\n",
       " {'ev make': 'Honda (5)',\n",
       "  'url': 'https://evehiclesdb.com/brands/honda?category=electric-cars'},\n",
       " {'ev make': 'Hongqi (2)',\n",
       "  'url': 'https://evehiclesdb.com/brands/hongqi?category=electric-cars'},\n",
       " {'ev make': 'Hyundai (11)',\n",
       "  'url': 'https://evehiclesdb.com/brands/hyundai?category=electric-cars'},\n",
       " {'ev make': 'Jaguar (1)',\n",
       "  'url': 'https://evehiclesdb.com/brands/jaguar?category=electric-cars'},\n",
       " {'ev make': 'KANDI (3)',\n",
       "  'url': 'https://evehiclesdb.com/brands/kandi?category=electric-cars'},\n",
       " {'ev make': 'Kia (8)',\n",
       "  'url': 'https://evehiclesdb.com/brands/kia?category=electric-cars'},\n",
       " {'ev make': 'Lexus (3)',\n",
       "  'url': 'https://evehiclesdb.com/brands/lexus?category=electric-cars'},\n",
       " {'ev make': 'Lightyear (1)',\n",
       "  'url': 'https://evehiclesdb.com/brands/lightyear?category=electric-cars'},\n",
       " {'ev make': 'Lucid (4)',\n",
       "  'url': 'https://evehiclesdb.com/brands/lucid?category=electric-cars'},\n",
       " {'ev make': 'Mazda (2)',\n",
       "  'url': 'https://evehiclesdb.com/brands/mazda?category=electric-cars'},\n",
       " {'ev make': 'Mercedes (13)',\n",
       "  'url': 'https://evehiclesdb.com/brands/mercedes?category=electric-cars'},\n",
       " {'ev make': 'MG (7)',\n",
       "  'url': 'https://evehiclesdb.com/brands/mg?category=electric-cars'},\n",
       " {'ev make': 'Mini (1)',\n",
       "  'url': 'https://evehiclesdb.com/brands/mini?category=electric-cars'},\n",
       " {'ev make': 'Nissan (8)',\n",
       "  'url': 'https://evehiclesdb.com/brands/nissan?category=electric-cars'},\n",
       " {'ev make': 'Opel (6)',\n",
       "  'url': 'https://evehiclesdb.com/brands/opel?category=electric-cars'},\n",
       " {'ev make': 'Peugeot (10)',\n",
       "  'url': 'https://evehiclesdb.com/brands/peugeot?category=electric-cars'},\n",
       " {'ev make': 'Polestar (3)',\n",
       "  'url': 'https://evehiclesdb.com/brands/polestar?category=electric-cars'},\n",
       " {'ev make': 'Porsche (9)',\n",
       "  'url': 'https://evehiclesdb.com/brands/porsche?category=electric-cars'},\n",
       " {'ev make': 'Renault (7)',\n",
       "  'url': 'https://evehiclesdb.com/brands/renault?category=electric-cars'},\n",
       " {'ev make': 'Skoda (6)',\n",
       "  'url': 'https://evehiclesdb.com/brands/skoda?category=electric-cars'},\n",
       " {'ev make': 'Smart (4)',\n",
       "  'url': 'https://evehiclesdb.com/brands/smart?category=electric-cars'},\n",
       " {'ev make': 'Sono (1)',\n",
       "  'url': 'https://evehiclesdb.com/brands/sono?category=electric-cars'},\n",
       " {'ev make': 'Tesla (9)',\n",
       "  'url': 'https://evehiclesdb.com/brands/tesla?category=electric-cars'},\n",
       " {'ev make': 'Toyota (4)',\n",
       "  'url': 'https://evehiclesdb.com/brands/toyota?category=electric-cars'},\n",
       " {'ev make': 'Volkswagen (10)',\n",
       "  'url': 'https://evehiclesdb.com/brands/volkswagen?category=electric-cars'},\n",
       " {'ev make': 'Volvo (4)',\n",
       "  'url': 'https://evehiclesdb.com/brands/volvo?category=electric-cars'},\n",
       " {'ev make': 'XPENG (1)',\n",
       "  'url': 'https://evehiclesdb.com/brands/xpeng?category=electric-cars'},\n",
       " {'ev make': 'ZhiDou (8)',\n",
       "  'url': 'https://evehiclesdb.com/brands/zhi-dou?category=electric-cars'}]"
      ]
     },
     "execution_count": 18,
     "metadata": {},
     "output_type": "execute_result"
    }
   ],
   "source": [
    "ev_makes"
   ]
  },
  {
   "cell_type": "code",
   "execution_count": 19,
   "metadata": {},
   "outputs": [],
   "source": [
    "ev_model = [] #list for all the EV models\n",
    "\n",
    "for model in ev_makes:\n",
    "    driver.get(model['url'])\n",
    "    \n",
    "    ev_models = driver.find_elements(By.CLASS_NAME, \"top_cars_list_item\")\n",
    "    \n",
    "       \n",
    "    for models in ev_models:\n",
    "        models_url = 'https://evehiclesdb.com/transport/'+ model +'/'\n",
    "        ev_model.append({'ev make': model['ev make'], 'model': models.text, 'url': models_url})"
   ]
  },
  {
   "cell_type": "code",
   "execution_count": 44,
   "metadata": {},
   "outputs": [
    {
     "name": "stdout",
     "output_type": "stream",
     "text": [
      "              ev make                                   model model url                              url string\n",
      "0          Aiways (1)                               AIWAYS U5      None                               aiways-u5\n",
      "1    Aston Martin (1)                   ASTON MARTIN RAPIDE E      None                   aston-martin-rapide-e\n",
      "2           Audi (13)             AUDI Q4 SPORTBACK E-TRON 35      None             audi-q4-sportback-e-tron-35\n",
      "3           Audi (13)               AUDI Q4 E-TRON 50 QUATTRO      None               audi-q4-e-tron-50-quattro\n",
      "4           Audi (13)               AUDI Q4 E-TRON 45 QUATTRO      None               audi-q4-e-tron-45-quattro\n",
      "5           Audi (13)             AUDI Q4 SPORTBACK E-TRON 40      None             audi-q4-sportback-e-tron-40\n",
      "6           Audi (13)                       AUDI Q4 E-TRON 35      None                       audi-q4-e-tron-35\n",
      "7           Audi (13)        AUDI E-TRON SPORTBACK 50 QUATTRO      None        audi-e-tron-sportback-50-quattro\n",
      "8           Audi (13)                  AUDI E-TRON 55 QUATTRO      None                  audi-e-tron-55-quattro\n",
      "9           Audi (13)                       AUDI E-TRON GT RS      None                       audi-e-tron-gt-rs\n",
      "10          Audi (13)     AUDI Q4 SPORTBACK E-TRON 50 QUATTRO      None     audi-q4-sportback-e-tron-50-quattro\n",
      "11          Audi (13)                          AUDI R8 E-TRON      None                          audi-r8-e-tron\n",
      "12          Audi (13)      AUDI E-TRON S SPORTBACK 55 QUATTRO      None      audi-e-tron-s-sportback-55-quattro\n",
      "13          Audi (13)        AUDI E-TRON SPORTBACK 55 QUATTRO      None        audi-e-tron-sportback-55-quattro\n",
      "14          Audi (13)                  AUDI E-TRON GT QUATTRO      None                  audi-e-tron-gt-quattro\n",
      "15           BAIC (1)                                BAIC EU5      None                                baic-eu5\n",
      "16            BMW (9)                         BMW I7 XDRIVE60      None                         bmw-i7-xdrive60\n",
      "17            BMW (9)                         BMW IX XDRIVE50      None                         bmw-ix-xdrive50\n",
      "18            BMW (9)                         BMW IX XDRIVE40      None                         bmw-ix-xdrive40\n",
      "19            BMW (9)                                 BMW IX3      None                                 bmw-ix3\n",
      "20            BMW (9)                                  BMW I3      None                                  bmw-i3\n",
      "21            BMW (9)                                 BMW I3S      None                                 bmw-i3s\n",
      "22            BMW (9)                         BMW I4 EDRIVE40      None                         bmw-i4-edrive40\n",
      "23            BMW (9)                              BMW I4 M50      None                              bmw-i4-m50\n",
      "24          Byton (3)                 BYTON M-BYTE 72 KWH 2WD      None                 byton-m-byte-72-kwh-2wd\n",
      "25          Byton (3)                 BYTON M-BYTE 95 KWH 4WD      None                 byton-m-byte-95-kwh-4wd\n",
      "26          Byton (3)                 BYTON M-BYTE 95 KWH 2WD      None                 byton-m-byte-95-kwh-2wd\n",
      "27        Citroen (8)                          CITROEN E-C4 X      None                          citroen-e-c4-x\n",
      "28        Citroen (8)         CITROEN E-SPACETOURER XS 50 KWH      None         citroen-e-spacetourer-xs-50-kwh\n",
      "29        Citroen (8)         CITROEN E-SPACETOURER XL 75 KWH      None         citroen-e-spacetourer-xl-75-kwh\n",
      "30        Citroen (8)          CITROEN E-SPACETOURER M 50 KWH      None          citroen-e-spacetourer-m-50-kwh\n",
      "31        Citroen (8)          CITROEN E-SPACETOURER M 75 KWH      None          citroen-e-spacetourer-m-75-kwh\n",
      "32        Citroen (8)                          CITROEN C-ZERO      None                          citroen-c-zero\n",
      "33        Citroen (8)                            CITROEN E-C4      None                            citroen-e-c4\n",
      "34        Citroen (8)                             CITROEN AMI      None                             citroen-ami\n",
      "35          CUPRA (4)              CUPRA BORN 170 KW - 82 KWH      None              cupra-born-170-kw---82-kwh\n",
      "36          CUPRA (4)              CUPRA BORN 170 KW - 62 KWH      None              cupra-born-170-kw---62-kwh\n",
      "37          CUPRA (4)              CUPRA BORN 150 KW - 62 KWH      None              cupra-born-150-kw---62-kwh\n",
      "38          CUPRA (4)              CUPRA BORN 110 KW - 55 KWH      None              cupra-born-110-kw---55-kwh\n",
      "39          Dacia (1)                   DACIA SPRING ELECTRIC      None                   dacia-spring-electric\n",
      "40             DS (1)                  DS 3 CROSSBACK E-TENSE      None                  ds-3-crossback-e-tense\n",
      "41          Fiat (10)                    FIAT 500E 3+1 24 KWH      None                    fiat-500e-3+1-24-kwh\n",
      "42          Fiat (10)                 FIAT E-ULYSSE L3 75 KWH      None                 fiat-e-ulysse-l3-75-kwh\n",
      "43          Fiat (10)                 FIAT E-ULYSSE L3 50 KWH      None                 fiat-e-ulysse-l3-50-kwh\n",
      "44          Fiat (10)                 FIAT E-ULYSSE L2 75 KWH      None                 fiat-e-ulysse-l2-75-kwh\n",
      "45          Fiat (10)                 FIAT E-ULYSSE L2 50 KWH      None                 fiat-e-ulysse-l2-50-kwh\n",
      "46          Fiat (10)                 FIAT 500E CABRIO 24 KWH      None                 fiat-500e-cabrio-24-kwh\n",
      "47          Fiat (10)                        FIAT 500E CABRIO      None                        fiat-500e-cabrio\n",
      "48          Fiat (10)              FIAT 500E HATCHBACK 42 KWH      None              fiat-500e-hatchback-42-kwh\n",
      "49          Fiat (10)              FIAT 500E HATCHBACK 24 KWH      None              fiat-500e-hatchback-24-kwh\n",
      "50          Fiat (10)                           FIAT 500E 3+1      None                           fiat-500e-3+1\n",
      "51         Fisker (4)                      FISKER OCEAN ULTRA      None                      fisker-ocean-ultra\n",
      "52         Fisker (4)                      FISKER OCEAN SPORT      None                      fisker-ocean-sport\n",
      "53         Fisker (4)                        FISKER OCEAN ONE      None                        fisker-ocean-one\n",
      "54         Fisker (4)                    FISKER OCEAN EXTREME      None                    fisker-ocean-extreme\n",
      "55           Ford (5)              FORD MUSTANG MACH-E SR RWD      None              ford-mustang-mach-e-sr-rwd\n",
      "56           Ford (5)              FORD MUSTANG MACH-E ER RWD      None              ford-mustang-mach-e-er-rwd\n",
      "57           Ford (5)              FORD MUSTANG MACH-E SR AWD      None              ford-mustang-mach-e-sr-awd\n",
      "58           Ford (5)              FORD MUSTANG MACH-E ER AWD      None              ford-mustang-mach-e-er-awd\n",
      "59           Ford (5)                  FORD MUSTANG MACH-E GT      None                  ford-mustang-mach-e-gt\n",
      "60        Genesis (2)          GENESIS GV70 ELECTRIFIED SPORT      None          genesis-gv70-electrified-sport\n",
      "61        Genesis (2)          GENESIS G80 ELECTRIFIED LUXURY      None          genesis-g80-electrified-luxury\n",
      "62          Honda (5)                                 HONDA E      None                                 honda-e\n",
      "63          Honda (5)                         HONDA E ADVANCE      None                         honda-e-advance\n",
      "64         Hongqi (2)                     HONGQI E-HS9 84 KWH      None                     hongqi-e-hs9-84-kwh\n",
      "65         Hongqi (2)                     HONGQI E-HS9 99 KWH      None                     hongqi-e-hs9-99-kwh\n",
      "66       Hyundai (11)          HYUNDAI IONIQ 6 LONG RANGE AWD      None          hyundai-ioniq-6-long-range-awd\n",
      "67       Hyundai (11)          HYUNDAI IONIQ 6 LONG RANGE 2WD      None          hyundai-ioniq-6-long-range-2wd\n",
      "68       Hyundai (11)      HYUNDAI IONIQ 6 STANDARD RANGE 2WD      None      hyundai-ioniq-6-standard-range-2wd\n",
      "69       Hyundai (11)                  HYUNDAI IONIQ ELECTRIC      None                  hyundai-ioniq-electric\n",
      "70       Hyundai (11)              HYUNDAI IONIQ 5 PROJECT 45      None              hyundai-ioniq-5-project-45\n",
      "71       Hyundai (11)            HYUNDAI KONA ELECTRIC 39 KWH      None            hyundai-kona-electric-39-kwh\n",
      "72       Hyundai (11)            HYUNDAI KONA ELECTRIC 64 KWH      None            hyundai-kona-electric-64-kwh\n",
      "73       Hyundai (11)      HYUNDAI IONIQ 5 STANDARD RANGE 2WD      None      hyundai-ioniq-5-standard-range-2wd\n",
      "74       Hyundai (11)      HYUNDAI IONIQ 5 STANDARD RANGE AWD      None      hyundai-ioniq-5-standard-range-awd\n",
      "75       Hyundai (11)          HYUNDAI IONIQ 5 LONG RANGE 2WD      None          hyundai-ioniq-5-long-range-2wd\n",
      "76       Hyundai (11)          HYUNDAI IONIQ 5 LONG RANGE AWD      None          hyundai-ioniq-5-long-range-awd\n",
      "77         Jaguar (1)                     JAGUAR I-PACE EV400      None                     jaguar-i-pace-ev400\n",
      "78          KANDI (3)                   KANDI OFF-ROAD EV K32      None                   kandi-off-road-ev-k32\n",
      "79          KANDI (3)                               KANDI K27      None                               kandi-k27\n",
      "80          KANDI (3)                               KANDI K23      None                               kandi-k23\n",
      "81            Kia (8)                             KIA NIRO EV      None                             kia-niro-ev\n",
      "82            Kia (8)                       KIA E-SOUL 64 KWH      None                       kia-e-soul-64-kwh\n",
      "83            Kia (8)                       KIA E-SOUL 39 KWH      None                       kia-e-soul-39-kwh\n",
      "84            Kia (8)                       KIA E-NIRO 64 KWH      None                       kia-e-niro-64-kwh\n",
      "85            Kia (8)                       KIA E-NIRO 39 KWH      None                       kia-e-niro-39-kwh\n",
      "86            Kia (8)                              KIA EV6 GT      None                              kia-ev6-gt\n",
      "87            Kia (8)   KIA EV6 LONG RANGE 2WD LONG RANGE 2WD      None   kia-ev6-long-range-2wd-long-range-2wd\n",
      "88            Kia (8)                  KIA EV6 LONG RANGE AWD      None                  kia-ev6-long-range-awd\n",
      "89          Lexus (3)                           LEXUS RZ 450E      None                           lexus-rz-450e\n",
      "90          Lexus (3)                           LEXUS UX 300E      None                           lexus-ux-300e\n",
      "91          Lexus (3)                              LEXUS LF-Z      None                              lexus-lf-z\n",
      "92      Lightyear (1)                           LIGHTYEAR ONE      None                           lightyear-one\n",
      "93          Lucid (4)               LUCID AIR DREAM EDITION R      None               lucid-air-dream-edition-r\n",
      "94          Lucid (4)                 LUCID AIR GRAND TOURING      None                 lucid-air-grand-touring\n",
      "95          Lucid (4)                       LUCID AIR TOURING      None                       lucid-air-touring\n",
      "96          Lucid (4)                          LUCID AIR PURE      None                          lucid-air-pure\n",
      "97          Mazda (2)                             MAZDA MX-30      None                             mazda-mx-30\n",
      "98          Mazda (2)                             MAZDA MX-30      None                             mazda-mx-30\n",
      "99      Mercedes (13)                        MERCEDES EQE 300      None                        mercedes-eqe-300\n",
      "100     Mercedes (13)                 MERCEDES EQE 500 4MATIC      None                 mercedes-eqe-500-4matic\n",
      "101     Mercedes (13)                        MERCEDES EQA 250      None                        mercedes-eqa-250\n",
      "102     Mercedes (13)                   MERCEDES EQV 300 LONG      None                   mercedes-eqv-300-long\n",
      "103     Mercedes (13)             MERCEDES EQV 300 EXTRA-LONG      None             mercedes-eqv-300-extra-long\n",
      "104     Mercedes (13)                 MERCEDES EQC 400 4MATIC      None                 mercedes-eqc-400-4matic\n",
      "105     Mercedes (13)                       MERCEDES EQS 450+      None                       mercedes-eqs-450+\n",
      "106     Mercedes (13)                 MERCEDES EQS 580 4MATIC      None                 mercedes-eqs-580-4matic\n",
      "107     Mercedes (13)                 MERCEDES EQB 350 4MATIC      None                 mercedes-eqb-350-4matic\n",
      "108     Mercedes (13)                 MERCEDES EQA 300 4MATIC      None                 mercedes-eqa-300-4matic\n",
      "109     Mercedes (13)                 MERCEDES EQA 350 4MATIC      None                 mercedes-eqa-350-4matic\n",
      "110     Mercedes (13)             MERCEDES EQS AMG 53 4MATIC+      None             mercedes-eqs-amg-53-4matic+\n",
      "111     Mercedes (13)                        MERCEDES EQE 350      None                        mercedes-eqe-350\n",
      "112            MG (7)                  MG MG4 ELECTRIC 51 KWH      None                  mg-mg4-electric-51-kwh\n",
      "113            MG (7)                  MG MG4 ELECTRIC 64 KWH      None                  mg-mg4-electric-64-kwh\n",
      "114            MG (7)                             MG MARVEL R      None                             mg-marvel-r\n",
      "115            MG (7)                    MG MG5 EV LONG RANGE      None                    mg-mg5-ev-long-range\n",
      "116            MG (7)                         MG MG5 ELECTRIC      None                         mg-mg5-electric\n",
      "117            MG (7)                     MG ZS EV LONG RANGE      None                     mg-zs-ev-long-range\n",
      "118            MG (7)                 MG MARVEL R PERFORMANCE      None                 mg-marvel-r-performance\n",
      "119          Mini (1)                          MINI COOPER SE      None                          mini-cooper-se\n",
      "120        Nissan (8)                             NISSAN LEAF      None                             nissan-leaf\n",
      "121        Nissan (8)                   NISSAN E-NV200 EVALIA      None                   nissan-e-nv200-evalia\n",
      "122        Nissan (8)                          NISSAN LEAF E+      None                          nissan-leaf-e+\n",
      "123        Nissan (8)                      NISSAN ARIYA 63KWH      None                      nissan-ariya-63kwh\n",
      "124        Nissan (8)                      NISSAN ARIYA 87KWH      None                      nissan-ariya-87kwh\n",
      "125        Nissan (8)              NISSAN ARIYA E-4ORCE 63KWH      None              nissan-ariya-e-4orce-63kwh\n",
      "126        Nissan (8)              NISSAN ARIYA E-4ORCE 87KWH      None              nissan-ariya-e-4orce-87kwh\n",
      "127        Nissan (8)  NISSAN ARIYA E-4ORCE 87KWH PERFORMANCE      None  nissan-ariya-e-4orce-87kwh-performance\n",
      "128          Opel (6)                            OPEL MOKKA-E      None                            opel-mokka-e\n",
      "129          Opel (6)             OPEL ZAFIRA-E LIFE S 50 KWH      None             opel-zafira-e-life-s-50-kwh\n",
      "130          Opel (6)             OPEL ZAFIRA-E LIFE M 50 KWH      None             opel-zafira-e-life-m-50-kwh\n",
      "131          Opel (6)             OPEL ZAFIRA-E LIFE L 50 KWH      None             opel-zafira-e-life-l-50-kwh\n",
      "132          Opel (6)             OPEL ZAFIRA-E LIFE M 75 KWH      None             opel-zafira-e-life-m-75-kwh\n",
      "133          Opel (6)             OPEL ZAFIRA-E LIFE L 75 KWH      None             opel-zafira-e-life-l-75-kwh\n",
      "134      Peugeot (10)                           PEUGEOT E-308      None                           peugeot-e-308\n",
      "135      Peugeot (10)                        PEUGEOT E-308 SW      None                        peugeot-e-308-sw\n",
      "136      Peugeot (10)                      PEUGEOT E-2008 SUV      None                      peugeot-e-2008-suv\n",
      "137      Peugeot (10)     PEUGEOT E-TRAVELLER STANDARD 75 KWH      None     peugeot-e-traveller-standard-75-kwh\n",
      "138      Peugeot (10)                           PEUGEOT E-208      None                           peugeot-e-208\n",
      "139      Peugeot (10)     PEUGEOT E-TRAVELLER STANDARD 50 KWH      None     peugeot-e-traveller-standard-50-kwh\n",
      "140      Peugeot (10)        PEUGEOT E-RIFTER STANDARD 50 KWH      None        peugeot-e-rifter-standard-50-kwh\n",
      "141      Peugeot (10)     PEUGEOT E-TRAVELLER STANDARD 50 KWH      None     peugeot-e-traveller-standard-50-kwh\n",
      "142      Peugeot (10)         PEUGEOT E-TRAVELLER LONG 75 KWH      None         peugeot-e-traveller-long-75-kwh\n",
      "143      Peugeot (10)            PEUGEOT E-RIFTER LONG 50 KWH      None            peugeot-e-rifter-long-50-kwh\n",
      "144      Polestar (3)  POLESTAR 2 STANDARD RANGE SINGLE MOTOR      None  polestar-2-standard-range-single-motor\n",
      "145      Polestar (3)      POLESTAR 2 LONG RANGE SINGLE MOTOR      None      polestar-2-long-range-single-motor\n",
      "146      Polestar (3)         POLESTAR 2 LONG RANGE DUAL MOTO      None         polestar-2-long-range-dual-moto\n",
      "147       Porsche (9)                  PORSCHE TAYCAN TURBO S      None                  porsche-taycan-turbo-s\n",
      "148       Porsche (9)    PORSCHE TAYCAN TURBO S CROSS TURISMO      None    porsche-taycan-turbo-s-cross-turismo\n",
      "149       Porsche (9)                    PORSCHE TAYCAN TURBO      None                    porsche-taycan-turbo\n",
      "150       Porsche (9)                          PORSCHE TAYCAN      None                          porsche-taycan\n",
      "151       Porsche (9)                  PORSCHE TAYCAN 4S PLUS      None                  porsche-taycan-4s-plus\n",
      "152       Porsche (9)                     PORSCHE TAYCAN PLUS      None                     porsche-taycan-plus\n",
      "153       Porsche (9)         PORSCHE TAYCAN 4S CROSS TURISMO      None         porsche-taycan-4s-cross-turismo\n",
      "154       Porsche (9)      PORSCHE TAYCAN TURBO CROSS TURISMO      None      porsche-taycan-turbo-cross-turismo\n",
      "155       Porsche (9)    PORSCHE TAYCAN TURBO S CROSS TURISMO      None    porsche-taycan-turbo-s-cross-turismo\n",
      "156       Renault (7)               RENAULT KANGOO MAXI ZE 33      None               renault-kangoo-maxi-ze-33\n",
      "157       Renault (7)        RENAULT MEGANE E-TECH EV40 130HP      None        renault-megane-e-tech-ev40-130hp\n",
      "158       Renault (7)                   RENAULT ZOE ZE40 R110      None                   renault-zoe-ze40-r110\n",
      "159       Renault (7)                 RENAULT TWINGO ELECTRIC      None                 renault-twingo-electric\n",
      "160       Renault (7)                   RENAULT ZOE ZE50 R135      None                   renault-zoe-ze50-r135\n",
      "161       Renault (7)        RENAULT MEGANE E-TECH EV60 220HP      None        renault-megane-e-tech-ev60-220hp\n",
      "162       Renault (7)                   RENAULT ZOE ZE50 R110      None                   renault-zoe-ze50-r110\n",
      "163         Skoda (6)                       SKODA ENYAQ IV 80      None                       skoda-enyaq-iv-80\n",
      "164         Skoda (6)                       SKODA ENYAQ IV 80      None                       skoda-enyaq-iv-80\n",
      "165         Skoda (6)                       SKODA ENYAQ IV 60      None                       skoda-enyaq-iv-60\n",
      "166         Skoda (6)                       SKODA ENYAQ IV 50      None                       skoda-enyaq-iv-50\n",
      "167         Skoda (6)                      SKODA ENYAQ IV 80X      None                      skoda-enyaq-iv-80x\n",
      "168         Skoda (6)                       SKODA ENYAQ IV RS      None                       skoda-enyaq-iv-rs\n",
      "169         Smart (4)                         SMART #1 BRABUS      None                         smart-#1-brabus\n",
      "170         Smart (4)                                SMART #1      None                                smart-#1\n",
      "171         Smart (4)                  SMART EQ FORTWO CABRIO      None                  smart-eq-fortwo-cabrio\n",
      "172         Smart (4)                        SMART EQ FORFOUR      None                        smart-eq-forfour\n",
      "173          Sono (1)                               SONO SION      None                               sono-sion\n",
      "174         Tesla (9)                     TESLA MODEL X PLAID      None                     tesla-model-x-plaid\n",
      "175         Tesla (9)                TESLA MODEL X LONG RANGE      None                tesla-model-x-long-range\n",
      "176         Tesla (9)                          TESLA ROADSTER      None                          tesla-roadster\n",
      "177         Tesla (9)               TESLA MODEL Y PERFORMANCE      None               tesla-model-y-performance\n",
      "178         Tesla (9)                TESLA MODEL S LONG RANGE      None                tesla-model-s-long-range\n",
      "179         Tesla (9)               TESLA MODEL 3 PERFORMANCE      None               tesla-model-3-performance\n",
      "180         Tesla (9)                     TESLA MODEL S PLAID      None                     tesla-model-s-plaid\n",
      "181         Tesla (9)     TESLA MODEL Y LONG RANGE DUAL MOTOR      None     tesla-model-y-long-range-dual-motor\n",
      "182         Tesla (9)     TESLA MODEL 3 LONG RANGE DUAL MOTOR      None     tesla-model-3-long-range-dual-motor\n",
      "183        Toyota (4)            TOYOTA PROACE VERSO M 50 KWH      None            toyota-proace-verso-m-50-kwh\n",
      "184        Toyota (4)            TOYOTA PROACE VERSO L 50 KWH      None            toyota-proace-verso-l-50-kwh\n",
      "185        Toyota (4)            TOYOTA PROACE VERSO L 75 KWH      None            toyota-proace-verso-l-75-kwh\n",
      "186        Toyota (4)            TOYOTA PROACE VERSO M 75 KWH      None            toyota-proace-verso-m-75-kwh\n",
      "187   Volkswagen (10)        VOLKSWAGEN ID.4 PURE PERFORMANCE      None        volkswagen-id.4-pure-performance\n",
      "188   Volkswagen (10)         VOLKSWAGEN ID.3 PRO S - 4 SEATS      None         volkswagen-id.3-pro-s---4-seats\n",
      "189   Volkswagen (10)                    VOLKSWAGEN ID.4 PURE      None                    volkswagen-id.4-pure\n",
      "190   Volkswagen (10)        VOLKSWAGEN ID.3 PURE PERFORMANCE      None        volkswagen-id.3-pure-performance\n",
      "191   Volkswagen (10)         VOLKSWAGEN ID.3 PRO PERFORMANCE      None         volkswagen-id.3-pro-performance\n",
      "192   Volkswagen (10)         VOLKSWAGEN ID.3 PRO S - 5 SEATS      None         volkswagen-id.3-pro-s---5-seats\n",
      "193   Volkswagen (10)                     VOLKSWAGEN ID.3 PRO      None                     volkswagen-id.3-pro\n",
      "194   Volkswagen (10)                     VOLKSWAGEN ID.4 GTX      None                     volkswagen-id.4-gtx\n",
      "195   Volkswagen (10)         VOLKSWAGEN ID.4 PRO PERFORMANCE      None         volkswagen-id.4-pro-performance\n",
      "196   Volkswagen (10)                         VOLKSWAGEN E-UP      None                         volkswagen-e-up\n",
      "197         Volvo (4)                      VOLVO C40 RECHARGE      None                      volvo-c40-recharge\n",
      "198         Volvo (4)  VOLVO XC40 RECHARGE TWIN PURE ELECTRIC      None  volvo-xc40-recharge-twin-pure-electric\n",
      "199         Volvo (4)       VOLVO XC40 RECHARGE PURE ELECTRIC      None       volvo-xc40-recharge-pure-electric\n",
      "200         XPENG (1)                                XPENG P5      None                                xpeng-p5\n",
      "201        ZhiDou (8)                               ZHIDOU G7      None                               zhidou-g7\n",
      "202        ZhiDou (8)                               ZHIDOU D3      None                               zhidou-d3\n",
      "203        ZhiDou (8)                              ZHIDOU D2P      None                              zhidou-d2p\n",
      "204        ZhiDou (8)                              ZHIDOU D2C      None                              zhidou-d2c\n",
      "205        ZhiDou (8)                             ZHIDOU A520      None                             zhidou-a520\n",
      "206        ZhiDou (8)                             ZHIDOU A380      None                             zhidou-a380\n",
      "207        ZhiDou (8)                              ZHIDOU D2S      None                              zhidou-d2s\n",
      "208        ZhiDou (8)                               ZHIDOU D2      None                               zhidou-d2\n"
     ]
    }
   ],
   "source": [
    "ev_df = pd.DataFrame(ev_model)\n",
    "ev_df['url string'] = ev_df['model'].str.split(' ').str.join(\"-\").str.lower()\n",
    "#quick comment a section of code with CTRL + /\n",
    "\n",
    "print(ev_df)\n"
   ]
  }
 ],
 "metadata": {
  "kernelspec": {
   "display_name": "Python 3",
   "language": "python",
   "name": "python3"
  },
  "language_info": {
   "codemirror_mode": {
    "name": "ipython",
    "version": 3
   },
   "file_extension": ".py",
   "mimetype": "text/x-python",
   "name": "python",
   "nbconvert_exporter": "python",
   "pygments_lexer": "ipython3",
   "version": "3.9.13"
  },
  "orig_nbformat": 4,
  "vscode": {
   "interpreter": {
    "hash": "b4a410a37008441fbb3377283153b8fbc8d390a35224e9fb1ba178c24071d305"
   }
  }
 },
 "nbformat": 4,
 "nbformat_minor": 2
}
