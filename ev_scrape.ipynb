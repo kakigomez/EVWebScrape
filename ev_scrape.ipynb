{
 "cells": [
  {
   "attachments": {},
   "cell_type": "markdown",
   "metadata": {},
   "source": [
    "This is a repo that was built to scrape HTML tables from [EVehicles DB](https://evehiclesdb.com/category/transport/electric-cars/). "
   ]
  },
  {
   "attachments": {},
   "cell_type": "markdown",
   "metadata": {},
   "source": [
    "## Install All Necessary Packages"
   ]
  },
  {
   "cell_type": "code",
   "execution_count": null,
   "metadata": {},
   "outputs": [],
   "source": [
    "import pandas as pd\n",
    "import requests\n",
    "import numpy as np\n",
    "import matplotlib.pyplot as plt\n",
    "%matplotlib inline\n",
    "import time\n",
    "from selenium import webdriver\n",
    "from selenium.webdriver.common.by import By\n",
    "from webdriver_manager.chrome import ChromeDriverManager\n",
    "from bs4 import BeautifulSoup as bs"
   ]
  },
  {
   "cell_type": "code",
   "execution_count": null,
   "metadata": {},
   "outputs": [],
   "source": [
    "pd.set_option('display.max_rows', 500)\n",
    "pd.set_option('display.max_columns', 500)\n",
    "pd.set_option('display.width', 1000)"
   ]
  },
  {
   "attachments": {},
   "cell_type": "markdown",
   "metadata": {},
   "source": [
    "### Testing Out How the Selenium Library Works"
   ]
  },
  {
   "cell_type": "code",
   "execution_count": null,
   "metadata": {},
   "outputs": [],
   "source": [
    "#Create the Driver\n",
    "driver = webdriver.Chrome(ChromeDriverManager().install())\n",
    "\n",
    "page_url = \"https://evehiclesdb.com/category/transport/electric-cars/\"\n",
    "driver.get(page_url)"
   ]
  },
  {
   "cell_type": "code",
   "execution_count": null,
   "metadata": {},
   "outputs": [],
   "source": [
    "ev_categories = driver.find_elements(By.CLASS_NAME, \"brand_list_item\")\n",
    "\n",
    "ev_categories[0].get_attribute('href')"
   ]
  },
  {
   "cell_type": "code",
   "execution_count": null,
   "metadata": {},
   "outputs": [],
   "source": [
    "ev_element = driver.find_elements(By.CLASS_NAME, \"top_cars_list_item\")\n",
    "\n",
    "ev_element"
   ]
  },
  {
   "attachments": {},
   "cell_type": "markdown",
   "metadata": {},
   "source": [
    "# Full Code"
   ]
  },
  {
   "attachments": {},
   "cell_type": "markdown",
   "metadata": {},
   "source": [
    "## Generate a list of URLs to scrape from"
   ]
  },
  {
   "cell_type": "code",
   "execution_count": null,
   "metadata": {},
   "outputs": [],
   "source": [
    "# Create Driver\n",
    "driver = webdriver.Chrome(ChromeDriverManager().install())\n",
    "\n",
    "#Go to the EVs DB page\n",
    "page_url = \"https://evehiclesdb.com/category/transport/electric-cars/\"\n",
    "driver.get(page_url)\n",
    "\n",
    "#Find EV makes\n",
    "ev_make = driver.find_elements(By.CLASS_NAME, \"brand_list_item\")\n",
    "\n",
    "ev_makes = [] #creates an empty list\n",
    "for make in ev_make:\n",
    "    make_url = make.get_attribute('href')\n",
    "    make_name = make.text\n",
    "    ev_makes.append({'ev make' : make_name, 'url': make_url})"
   ]
  },
  {
   "cell_type": "code",
   "execution_count": null,
   "metadata": {},
   "outputs": [],
   "source": [
    "ev_model = [] #list for all the EV models\n",
    "\n",
    "for model in ev_makes:\n",
    "    driver.get(model['url'])\n",
    "    \n",
    "    ev_models = driver.find_elements(By.CLASS_NAME, \"top_cars_list_item\")\n",
    "    \n",
    "       \n",
    "    for models in ev_models:\n",
    "        #models_url = 'https://evehiclesdb.com/transport/'+ model +'/'\n",
    "        ev_model.append({'ev make': model['ev make'], 'model': models.text})"
   ]
  },
  {
   "cell_type": "code",
   "execution_count": null,
   "metadata": {},
   "outputs": [],
   "source": [
    "#This will generate the url for each EV\n",
    "ev_df = pd.DataFrame(ev_model)\n",
    "ev_df['url string'] = ev_df['model'].str.split(' ').str.join(\"-\").str.lower()\n",
    "\n",
    "ev_df['url'] = 'https://evehiclesdb.com/transport/'+ev_df['url string']+'/'\n",
    "#some of the URL pages in this database have buttons and we need to always make sure we are accessing \"Specifications\"\n",
    "#driver.find_element(By.XPATH, '//span[text()=\"Specifications\"]').click()\n",
    "\n"
   ]
  },
  {
   "attachments": {},
   "cell_type": "markdown",
   "metadata": {},
   "source": [
    "## Function to Scrape an HTML Table"
   ]
  },
  {
   "cell_type": "code",
   "execution_count": null,
   "metadata": {},
   "outputs": [],
   "source": [
    "def table_scrape(table):\n",
    "    \"\"\"Parses an html segment started with tag <table> followed \n",
    "    by multiple <tr> (table rows) and inner <td> (table data) tags.\n",
    "    It returns a list of rows with inner columns.\n",
    "    \"\"\"\n",
    "    def row_scrape(tr, col_tag='td'): #td (data) \n",
    "        return [td.get_text(strip=True) for td in tr.find_all(col_tag)]\n",
    "    rows = []\n",
    "    trs = table.find_all('tr')\n",
    "    for tr in trs: #for every table row\n",
    "        rows.append(row_scrape(tr, 'td')) #data row\n",
    "    return rows"
   ]
  },
  {
   "attachments": {},
   "cell_type": "markdown",
   "metadata": {},
   "source": [
    "### Testing a single URL with the table_scrape function"
   ]
  },
  {
   "cell_type": "code",
   "execution_count": null,
   "metadata": {},
   "outputs": [],
   "source": [
    "#Testing a single URL with the scraping function created in the cell before\n",
    "url_test = 'https://evehiclesdb.com/transport/honda-e/'\n",
    "\n",
    "response_test = requests.get(url_test)\n",
    "soup_test = bs(response_test.text, 'html.parser')\n",
    "ev_table_test = soup_test.find('table', dir='ltr')\n",
    "\n",
    "test_table = pd.DataFrame(table_scrape(ev_table_test))\n",
    "#test_table[:3]"
   ]
  },
  {
   "cell_type": "code",
   "execution_count": null,
   "metadata": {},
   "outputs": [],
   "source": [
    "test_table "
   ]
  },
  {
   "attachments": {},
   "cell_type": "markdown",
   "metadata": {},
   "source": [
    "## Scrape ALL HTML Tables from ALL the URLs "
   ]
  },
  {
   "cell_type": "code",
   "execution_count": null,
   "metadata": {},
   "outputs": [],
   "source": [
    "ev_list = list(ev_df['url']) #List of all the urls for each EV\n",
    "\n",
    "dict_of_evs = {} #initialize empty dictionary\n",
    "count = 0\n",
    "for i in ev_list: #While count is less than or equal to the total number of EVs in the database\n",
    "    url = i #this is the individual url string for each EV\n",
    "    response = requests.get(url)\n",
    "    soup = bs(response.text, 'html.parser')\n",
    "    \n",
    "    #ev_table = soup.find('table', dir='ltr')\n",
    "    if soup.find('div', class_='list-group'):\n",
    "        ev_table = soup.find('div', class_='list-group')\n",
    "\n",
    "    #comp_ev_table = pd.DataFrame(table_scrape(ev_table))\n",
    "    \n",
    "    df_name = f\"df_{count}\" #name of each dictionary key i.e. df_1, df_2... df_count\n",
    "    dict_of_evs[df_name] = pd.DataFrame(table_scrape(ev_table))\n",
    "\n",
    "    count += 1\n"
   ]
  },
  {
   "attachments": {},
   "cell_type": "markdown",
   "metadata": {},
   "source": [
    "## Combine the Scraped EV Dictionary"
   ]
  },
  {
   "attachments": {},
   "cell_type": "markdown",
   "metadata": {},
   "source": [
    "### Testing Cell"
   ]
  },
  {
   "cell_type": "code",
   "execution_count": null,
   "metadata": {},
   "outputs": [],
   "source": [
    "#Testing Cell: Ignore\n",
    "\n",
    "# a = dict_of_evs['df_10'].T\n",
    "# a.columns = a.iloc[0]\n",
    "# a\n",
    "\n",
    "# a = dict_of_evs\n",
    "# test_concat = pd.concat([a['df_1'],a['df_2']],axis=1).sort_values('0')\n",
    "# test_concat"
   ]
  },
  {
   "attachments": {},
   "cell_type": "markdown",
   "metadata": {},
   "source": [
    "## Start Here"
   ]
  },
  {
   "attachments": {},
   "cell_type": "markdown",
   "metadata": {},
   "source": [
    "### Create a dataframe from the created dictionary"
   ]
  },
  {
   "cell_type": "code",
   "execution_count": 377,
   "metadata": {},
   "outputs": [],
   "source": [
    "#Combine all dictionaries by concating the dataframes and transposing\n",
    "metric_df = pd.concat(dict_of_evs, axis=1).T\n",
    "#Makes the column names the same things as the first row\n",
    "metric_df.columns = metric_df.iloc[0]\n",
    "metric_df = metric_df.reset_index().drop(columns={'level_0'})\n",
    "\n",
    "#metric_df.head()"
   ]
  },
  {
   "cell_type": "code",
   "execution_count": 378,
   "metadata": {},
   "outputs": [],
   "source": [
    "#Further cleaning the new dataframe by dropping duplicate rows\n",
    "metric_df['Bool'] = metric_df['level_1'].astype(bool)\n",
    "metric_df = metric_df.drop(columns='level_1')\n",
    "\n",
    "metric_df = metric_df[metric_df['Bool'] != False]\n",
    "metric_df = metric_df.drop(columns='Bool')\n",
    "\n",
    "#metric_df.head()"
   ]
  },
  {
   "attachments": {},
   "cell_type": "markdown",
   "metadata": {},
   "source": [
    "### Cleaning up the dataframe"
   ]
  },
  {
   "cell_type": "code",
   "execution_count": 379,
   "metadata": {},
   "outputs": [],
   "source": [
    "columns = ['Brand','Model','Body Style','Car Engine'] #list of the columns that contain strings\n",
    "#Makes everything lower case\n",
    "for column in columns: \n",
    "    metric_df[column] = metric_df[column].str.lower() \n",
    "\n",
    "metric_df = metric_df.reset_index().drop(columns='index')\n",
    "#metric_df.head()\n",
    "  "
   ]
  },
  {
   "cell_type": "code",
   "execution_count": 380,
   "metadata": {},
   "outputs": [
    {
     "data": {
      "text/html": [
       "<div>\n",
       "<style scoped>\n",
       "    .dataframe tbody tr th:only-of-type {\n",
       "        vertical-align: middle;\n",
       "    }\n",
       "\n",
       "    .dataframe tbody tr th {\n",
       "        vertical-align: top;\n",
       "    }\n",
       "\n",
       "    .dataframe thead th {\n",
       "        text-align: right;\n",
       "    }\n",
       "</style>\n",
       "<table border=\"1\" class=\"dataframe\">\n",
       "  <thead>\n",
       "    <tr style=\"text-align: right;\">\n",
       "      <th>(df_0, 0)</th>\n",
       "      <th>Brand</th>\n",
       "      <th>Model</th>\n",
       "      <th>Body Style</th>\n",
       "      <th>Motor Power (kW)</th>\n",
       "      <th>Maximum Torque (Nm)</th>\n",
       "      <th>Battery Energy (kWh)</th>\n",
       "      <th>Time to Charge (hr)</th>\n",
       "      <th>Acceleration from 0 to 100 km/h (sec)</th>\n",
       "      <th>Top Speed (km/h)</th>\n",
       "    </tr>\n",
       "  </thead>\n",
       "  <tbody>\n",
       "    <tr>\n",
       "      <th>0</th>\n",
       "      <td>aiways</td>\n",
       "      <td>u5</td>\n",
       "      <td>suv</td>\n",
       "      <td>150</td>\n",
       "      <td>310</td>\n",
       "      <td>63.0</td>\n",
       "      <td>10.0                                        /\\...</td>\n",
       "      <td>7.5</td>\n",
       "      <td>150</td>\n",
       "    </tr>\n",
       "    <tr>\n",
       "      <th>1</th>\n",
       "      <td>aston martin</td>\n",
       "      <td>rapide e</td>\n",
       "      <td>sedan</td>\n",
       "      <td>610</td>\n",
       "      <td>950</td>\n",
       "      <td>65</td>\n",
       "      <td>-\\r\\n                                        /...</td>\n",
       "      <td>4.1</td>\n",
       "      <td>250</td>\n",
       "    </tr>\n",
       "    <tr>\n",
       "      <th>2</th>\n",
       "      <td>audi</td>\n",
       "      <td>q4 sportback e-tron 35</td>\n",
       "      <td>suv</td>\n",
       "      <td>125</td>\n",
       "      <td>310</td>\n",
       "      <td>55.0</td>\n",
       "      <td>-\\r\\n                                        /...</td>\n",
       "      <td>9.0</td>\n",
       "      <td>160</td>\n",
       "    </tr>\n",
       "    <tr>\n",
       "      <th>3</th>\n",
       "      <td>audi</td>\n",
       "      <td>q4 e-tron 50 quattro</td>\n",
       "      <td>suv</td>\n",
       "      <td>220</td>\n",
       "      <td>460</td>\n",
       "      <td>82.0</td>\n",
       "      <td>-\\r\\n                                        /...</td>\n",
       "      <td>6.2</td>\n",
       "      <td>180</td>\n",
       "    </tr>\n",
       "    <tr>\n",
       "      <th>4</th>\n",
       "      <td>audi</td>\n",
       "      <td>q4 e-tron 45 quattro</td>\n",
       "      <td>suv</td>\n",
       "      <td>195</td>\n",
       "      <td>425</td>\n",
       "      <td>82.0</td>\n",
       "      <td>-\\r\\n                                        /...</td>\n",
       "      <td>6.9</td>\n",
       "      <td>180</td>\n",
       "    </tr>\n",
       "  </tbody>\n",
       "</table>\n",
       "</div>"
      ],
      "text/plain": [
       "('df_0', 0)         Brand                   Model Body Style Motor Power (kW) Maximum Torque (Nm) Battery Energy (kWh)                                Time to Charge (hr) Acceleration from 0 to 100 km/h (sec) Top Speed (km/h)\n",
       "0                  aiways                      u5        suv              150                 310                 63.0  10.0                                        /\\...                                   7.5              150\n",
       "1            aston martin                rapide e      sedan              610                 950                   65  -\\r\\n                                        /...                                   4.1              250\n",
       "2                    audi  q4 sportback e-tron 35        suv              125                 310                 55.0  -\\r\\n                                        /...                                   9.0              160\n",
       "3                    audi    q4 e-tron 50 quattro        suv              220                 460                 82.0  -\\r\\n                                        /...                                   6.2              180\n",
       "4                    audi    q4 e-tron 45 quattro        suv              195                 425                 82.0  -\\r\\n                                        /...                                   6.9              180"
      ]
     },
     "execution_count": 380,
     "metadata": {},
     "output_type": "execute_result"
    }
   ],
   "source": [
    "rename_dict = {'Motor power':'Motor Power (kW)',\n",
    "            'Maximum Torque, Nm':'Maximum Torque (Nm)',\n",
    "            'Battery Energy, kWh':'Battery Energy (kWh)',\n",
    "            'Power reserve (NEDC/EPA/WLTP), km':'Power Reserve (km)',\n",
    "            'Level Charging (230/400/DC), hours':'Time to Charge (hr)',\n",
    "            'Electrical Acceleration, 0-100 km/h (0-62.1 mph) in sec':'Acceleration from 0 to 100 km/h (sec)',\n",
    "            'Top Speed, km/h':'Top Speed (km/h)'\n",
    "            }\n",
    "metric_df = metric_df.rename(columns= rename_dict)\n",
    "metric_df = metric_df.drop(columns={'Power Reserve (km)','Car Engine'})\n",
    "metric_df.head()"
   ]
  },
  {
   "attachments": {},
   "cell_type": "markdown",
   "metadata": {},
   "source": [
    "### The following cells are for transforming all numeric objects to float values."
   ]
  },
  {
   "cell_type": "code",
   "execution_count": 381,
   "metadata": {},
   "outputs": [
    {
     "data": {
      "text/html": [
       "<div>\n",
       "<style scoped>\n",
       "    .dataframe tbody tr th:only-of-type {\n",
       "        vertical-align: middle;\n",
       "    }\n",
       "\n",
       "    .dataframe tbody tr th {\n",
       "        vertical-align: top;\n",
       "    }\n",
       "\n",
       "    .dataframe thead th {\n",
       "        text-align: right;\n",
       "    }\n",
       "</style>\n",
       "<table border=\"1\" class=\"dataframe\">\n",
       "  <thead>\n",
       "    <tr style=\"text-align: right;\">\n",
       "      <th>(df_0, 0)</th>\n",
       "      <th>Brand</th>\n",
       "      <th>Model</th>\n",
       "      <th>Body Style</th>\n",
       "      <th>Motor Power (kW)</th>\n",
       "      <th>Maximum Torque (Nm)</th>\n",
       "      <th>Battery Energy (kWh)</th>\n",
       "      <th>Time to Charge (hr)</th>\n",
       "      <th>Acceleration from 0 to 100 km/h (sec)</th>\n",
       "      <th>Top Speed (km/h)</th>\n",
       "    </tr>\n",
       "  </thead>\n",
       "  <tbody>\n",
       "    <tr>\n",
       "      <th>0</th>\n",
       "      <td>aiways</td>\n",
       "      <td>u5</td>\n",
       "      <td>suv</td>\n",
       "      <td>150</td>\n",
       "      <td>310</td>\n",
       "      <td>63.0</td>\n",
       "      <td>10.00</td>\n",
       "      <td>7.5</td>\n",
       "      <td>150</td>\n",
       "    </tr>\n",
       "    <tr>\n",
       "      <th>1</th>\n",
       "      <td>aston martin</td>\n",
       "      <td>rapide e</td>\n",
       "      <td>sedan</td>\n",
       "      <td>610</td>\n",
       "      <td>950</td>\n",
       "      <td>65</td>\n",
       "      <td>3.00</td>\n",
       "      <td>4.1</td>\n",
       "      <td>250</td>\n",
       "    </tr>\n",
       "    <tr>\n",
       "      <th>2</th>\n",
       "      <td>audi</td>\n",
       "      <td>q4 sportback e-tron 35</td>\n",
       "      <td>suv</td>\n",
       "      <td>125</td>\n",
       "      <td>310</td>\n",
       "      <td>55.0</td>\n",
       "      <td>8.30</td>\n",
       "      <td>9.0</td>\n",
       "      <td>160</td>\n",
       "    </tr>\n",
       "    <tr>\n",
       "      <th>3</th>\n",
       "      <td>audi</td>\n",
       "      <td>q4 e-tron 50 quattro</td>\n",
       "      <td>suv</td>\n",
       "      <td>220</td>\n",
       "      <td>460</td>\n",
       "      <td>82.0</td>\n",
       "      <td>8.15</td>\n",
       "      <td>6.2</td>\n",
       "      <td>180</td>\n",
       "    </tr>\n",
       "    <tr>\n",
       "      <th>4</th>\n",
       "      <td>audi</td>\n",
       "      <td>q4 e-tron 45 quattro</td>\n",
       "      <td>suv</td>\n",
       "      <td>195</td>\n",
       "      <td>425</td>\n",
       "      <td>82.0</td>\n",
       "      <td>8.15</td>\n",
       "      <td>6.9</td>\n",
       "      <td>180</td>\n",
       "    </tr>\n",
       "  </tbody>\n",
       "</table>\n",
       "</div>"
      ],
      "text/plain": [
       "('df_0', 0)         Brand                   Model Body Style Motor Power (kW) Maximum Torque (Nm) Battery Energy (kWh)  Time to Charge (hr) Acceleration from 0 to 100 km/h (sec) Top Speed (km/h)\n",
       "0                  aiways                      u5        suv              150                 310                 63.0                10.00                                   7.5              150\n",
       "1            aston martin                rapide e      sedan              610                 950                   65                 3.00                                   4.1              250\n",
       "2                    audi  q4 sportback e-tron 35        suv              125                 310                 55.0                 8.30                                   9.0              160\n",
       "3                    audi    q4 e-tron 50 quattro        suv              220                 460                 82.0                 8.15                                   6.2              180\n",
       "4                    audi    q4 e-tron 45 quattro        suv              195                 425                 82.0                 8.15                                   6.9              180"
      ]
     },
     "execution_count": 381,
     "metadata": {},
     "output_type": "execute_result"
    }
   ],
   "source": [
    "#Cleaning 'Time to Charge' column\n",
    "metric_df['Time_clean'] = metric_df['Time to Charge (hr)'].str.strip().str.replace('-\\r\\n','',regex=True)\n",
    "metric_df['Time_clean'] = metric_df['Time_clean'].str.strip().str.replace('/\\r\\n','',regex=True).str.replace(',','.',regex=True).dropna()\n",
    "metric_df['Time_clean'] = metric_df['Time_clean'].str.extract(\"([-+]?\\d*\\.\\d+|[-+]?\\d+)\").astype(float) #extracts the numeric values\n",
    "\n",
    "metric_df['Time to Charge (hr)'] = metric_df['Time_clean']\n",
    "metric_df = metric_df.drop(columns={'Time_clean'})\n",
    "\n",
    "metric_df.head()"
   ]
  },
  {
   "cell_type": "code",
   "execution_count": 382,
   "metadata": {},
   "outputs": [],
   "source": [
    "#Cleaning 'Motor Power' column\n",
    "metric_df['Motor_clean'] = metric_df['Motor Power (kW)'].str.strip().str.replace('-\\r\\n','',regex=True).str.replace('/\\r\\n','',regex=True).str.replace(',','.',regex=True).dropna()\n",
    "metric_df['Motor_clean'] = metric_df['Motor_clean'].str.extract(\"([-+]?\\d*\\.\\d+|[-+]?\\d+)\").astype(float) #extracts the numeric values\n",
    "\n",
    "metric_df['Motor Power (kW)'] = metric_df['Motor_clean']\n",
    "metric_df = metric_df.drop(columns='Motor_clean')\n"
   ]
  },
  {
   "cell_type": "code",
   "execution_count": 383,
   "metadata": {},
   "outputs": [],
   "source": [
    "#Cleaning 'Maximum Torque' column\n",
    "metric_df['Torque_clean'] = metric_df['Maximum Torque (Nm)'].str.strip().str.replace('-\\r\\n','',regex=True)\n",
    "metric_df['Torque_clean'] = metric_df['Torque_clean'].str.strip().str.replace('/\\r\\n','',regex=True).str.replace(',','.',regex=True).dropna()\n",
    "metric_df['Torque_clean'] = metric_df['Torque_clean'].str.extract(\"([-+]?\\d*\\.\\d+|[-+]?\\d+)\").astype(float) #extracts the numeric values\n",
    "\n",
    "metric_df['Maximum Torque (Nm)'] = metric_df['Torque_clean']\n",
    "metric_df = metric_df.drop(columns={'Torque_clean'})"
   ]
  },
  {
   "cell_type": "code",
   "execution_count": 384,
   "metadata": {},
   "outputs": [],
   "source": [
    "#Cleaning 'Battery Energy' column\n",
    "metric_df['Battery_clean'] = metric_df['Battery Energy (kWh)'].str.strip().str.replace('-\\r\\n','',regex=True)\n",
    "metric_df['Battery_clean'] = metric_df['Battery_clean'].str.strip().str.replace('/\\r\\n','',regex=True).str.replace(',','.',regex=True).dropna()\n",
    "metric_df['Battery_clean'] = metric_df['Battery_clean'].str.extract(\"([-+]?\\d*\\.\\d+|[-+]?\\d+)\").astype(float) #extracts the numeric values\n",
    "\n",
    "metric_df['Battery Energy (kWh)'] = metric_df['Battery_clean']\n",
    "metric_df = metric_df.drop(columns={'Battery_clean'})"
   ]
  },
  {
   "cell_type": "code",
   "execution_count": 385,
   "metadata": {},
   "outputs": [],
   "source": [
    "#Cleaning 'Acceleration' column\n",
    "metric_df['Acceleration_clean'] = metric_df['Acceleration from 0 to 100 km/h (sec)'].str.strip().str.replace('-\\r\\n','',regex=True)\n",
    "metric_df['Acceleration_clean'] = metric_df['Acceleration_clean'].str.strip().str.replace('/\\r\\n','',regex=True).str.replace(',','.',regex=True).dropna()\n",
    "metric_df['Acceleration_clean'] = metric_df['Acceleration_clean'].str.extract(\"([-+]?\\d*\\.\\d+|[-+]?\\d+)\").astype(float) #extracts the numeric values\n",
    "\n",
    "metric_df['Acceleration from 0 to 100 km/h (sec)'] = metric_df['Acceleration_clean']\n",
    "metric_df = metric_df.drop(columns={'Acceleration_clean'})"
   ]
  },
  {
   "cell_type": "code",
   "execution_count": 386,
   "metadata": {},
   "outputs": [],
   "source": [
    "#Cleaning 'Top Speed' column\n",
    "metric_df['Speed_clean'] = metric_df['Top Speed (km/h)'].str.strip().str.replace('-\\r\\n','',regex=True)\n",
    "metric_df['Speed_clean'] = metric_df['Speed_clean'].str.strip().str.replace('/\\r\\n','',regex=True).str.replace(',','.',regex=True).dropna()\n",
    "metric_df['Speed_clean'] = metric_df['Speed_clean'].str.extract(\"([-+]?\\d*\\.\\d+|[-+]?\\d+)\").astype(float) #extracts the numeric values\n",
    "\n",
    "metric_df['Top Speed (km/h)'] = metric_df['Speed_clean']\n",
    "metric_df = metric_df.drop(columns={'Speed_clean'})"
   ]
  },
  {
   "cell_type": "code",
   "execution_count": null,
   "metadata": {},
   "outputs": [],
   "source": [
    "metric_df.dtypes #Checking that all numeric values return as floats"
   ]
  },
  {
   "attachments": {},
   "cell_type": "markdown",
   "metadata": {},
   "source": [
    "## Converting from Metric to Imperial units (sigh... America)"
   ]
  },
  {
   "cell_type": "code",
   "execution_count": 387,
   "metadata": {},
   "outputs": [
    {
     "data": {
      "text/html": [
       "<div>\n",
       "<style scoped>\n",
       "    .dataframe tbody tr th:only-of-type {\n",
       "        vertical-align: middle;\n",
       "    }\n",
       "\n",
       "    .dataframe tbody tr th {\n",
       "        vertical-align: top;\n",
       "    }\n",
       "\n",
       "    .dataframe thead th {\n",
       "        text-align: right;\n",
       "    }\n",
       "</style>\n",
       "<table border=\"1\" class=\"dataframe\">\n",
       "  <thead>\n",
       "    <tr style=\"text-align: right;\">\n",
       "      <th>(df_0, 0)</th>\n",
       "      <th>Brand</th>\n",
       "      <th>Model</th>\n",
       "      <th>Body Style</th>\n",
       "      <th>Motor Power (kW)</th>\n",
       "      <th>Maximum Torque (Nm)</th>\n",
       "      <th>Battery Energy (kWh)</th>\n",
       "      <th>Time to Charge (hr)</th>\n",
       "      <th>Acceleration from 0 to 100 km/h (sec)</th>\n",
       "      <th>Top Speed (km/h)</th>\n",
       "    </tr>\n",
       "  </thead>\n",
       "  <tbody>\n",
       "    <tr>\n",
       "      <th>0</th>\n",
       "      <td>aiways</td>\n",
       "      <td>u5</td>\n",
       "      <td>suv</td>\n",
       "      <td>150.0</td>\n",
       "      <td>310.0</td>\n",
       "      <td>63.0</td>\n",
       "      <td>10.00</td>\n",
       "      <td>7.5</td>\n",
       "      <td>150.0</td>\n",
       "    </tr>\n",
       "    <tr>\n",
       "      <th>1</th>\n",
       "      <td>aston martin</td>\n",
       "      <td>rapide e</td>\n",
       "      <td>sedan</td>\n",
       "      <td>610.0</td>\n",
       "      <td>950.0</td>\n",
       "      <td>65.0</td>\n",
       "      <td>3.00</td>\n",
       "      <td>4.1</td>\n",
       "      <td>250.0</td>\n",
       "    </tr>\n",
       "    <tr>\n",
       "      <th>2</th>\n",
       "      <td>audi</td>\n",
       "      <td>q4 sportback e-tron 35</td>\n",
       "      <td>suv</td>\n",
       "      <td>125.0</td>\n",
       "      <td>310.0</td>\n",
       "      <td>55.0</td>\n",
       "      <td>8.30</td>\n",
       "      <td>9.0</td>\n",
       "      <td>160.0</td>\n",
       "    </tr>\n",
       "    <tr>\n",
       "      <th>3</th>\n",
       "      <td>audi</td>\n",
       "      <td>q4 e-tron 50 quattro</td>\n",
       "      <td>suv</td>\n",
       "      <td>220.0</td>\n",
       "      <td>460.0</td>\n",
       "      <td>82.0</td>\n",
       "      <td>8.15</td>\n",
       "      <td>6.2</td>\n",
       "      <td>180.0</td>\n",
       "    </tr>\n",
       "    <tr>\n",
       "      <th>4</th>\n",
       "      <td>audi</td>\n",
       "      <td>q4 e-tron 45 quattro</td>\n",
       "      <td>suv</td>\n",
       "      <td>195.0</td>\n",
       "      <td>425.0</td>\n",
       "      <td>82.0</td>\n",
       "      <td>8.15</td>\n",
       "      <td>6.9</td>\n",
       "      <td>180.0</td>\n",
       "    </tr>\n",
       "  </tbody>\n",
       "</table>\n",
       "</div>"
      ],
      "text/plain": [
       "('df_0', 0)         Brand                   Model Body Style  Motor Power (kW)  Maximum Torque (Nm)  Battery Energy (kWh)  Time to Charge (hr)  Acceleration from 0 to 100 km/h (sec)  Top Speed (km/h)\n",
       "0                  aiways                      u5        suv             150.0                310.0                  63.0                10.00                                    7.5             150.0\n",
       "1            aston martin                rapide e      sedan             610.0                950.0                  65.0                 3.00                                    4.1             250.0\n",
       "2                    audi  q4 sportback e-tron 35        suv             125.0                310.0                  55.0                 8.30                                    9.0             160.0\n",
       "3                    audi    q4 e-tron 50 quattro        suv             220.0                460.0                  82.0                 8.15                                    6.2             180.0\n",
       "4                    audi    q4 e-tron 45 quattro        suv             195.0                425.0                  82.0                 8.15                                    6.9             180.0"
      ]
     },
     "execution_count": 387,
     "metadata": {},
     "output_type": "execute_result"
    }
   ],
   "source": [
    "imperial_df = metric_df.copy()\n",
    "\n",
    "imperial_df.head()"
   ]
  },
  {
   "cell_type": "code",
   "execution_count": 388,
   "metadata": {},
   "outputs": [],
   "source": [
    "#We'll create a dataframe that puts everything into Imperial Units\n",
    "imperial_df['Motor Power (hp)'] = (imperial_df['Motor Power (kW)']*1.341).round(2)\n",
    "imperial_df['Maximum Torque (ft-lb)'] = (imperial_df['Maximum Torque (Nm)']/1.356).round(2)\n",
    "imperial_df['Battery Energy (MBTU)'] = (imperial_df['Battery Energy (kWh)']*3412/10000).round(2)\n",
    "imperial_df['Top Speed (mph)'] = (imperial_df['Top Speed (km/h)']/1.609).round(2)\n",
    "\n",
    "#Removing all the metric columns\n",
    "metric_columns = {'Motor Power (kW)',\n",
    "                'Maximum Torque (Nm)',\n",
    "                'Battery Energy (kWh)',\n",
    "                'Top Speed (km/h)',\n",
    "                }\n",
    "imperial_df = imperial_df.drop(columns=metric_columns)"
   ]
  },
  {
   "cell_type": "code",
   "execution_count": 389,
   "metadata": {},
   "outputs": [
    {
     "data": {
      "text/html": [
       "<div>\n",
       "<style scoped>\n",
       "    .dataframe tbody tr th:only-of-type {\n",
       "        vertical-align: middle;\n",
       "    }\n",
       "\n",
       "    .dataframe tbody tr th {\n",
       "        vertical-align: top;\n",
       "    }\n",
       "\n",
       "    .dataframe thead th {\n",
       "        text-align: right;\n",
       "    }\n",
       "</style>\n",
       "<table border=\"1\" class=\"dataframe\">\n",
       "  <thead>\n",
       "    <tr style=\"text-align: right;\">\n",
       "      <th>(df_0, 0)</th>\n",
       "      <th>Brand</th>\n",
       "      <th>Model</th>\n",
       "      <th>Body Style</th>\n",
       "      <th>Time to Charge (hr)</th>\n",
       "      <th>Acceleration from 0 to 100 km/h (sec)</th>\n",
       "      <th>Motor Power (hp)</th>\n",
       "      <th>Maximum Torque (ft-lb)</th>\n",
       "      <th>Battery Energy (MBTU)</th>\n",
       "      <th>Top Speed (mph)</th>\n",
       "    </tr>\n",
       "  </thead>\n",
       "  <tbody>\n",
       "    <tr>\n",
       "      <th>0</th>\n",
       "      <td>aiways</td>\n",
       "      <td>u5</td>\n",
       "      <td>suv</td>\n",
       "      <td>10.00</td>\n",
       "      <td>7.5</td>\n",
       "      <td>201.15</td>\n",
       "      <td>228.61</td>\n",
       "      <td>21.50</td>\n",
       "      <td>93.23</td>\n",
       "    </tr>\n",
       "    <tr>\n",
       "      <th>1</th>\n",
       "      <td>aston martin</td>\n",
       "      <td>rapide e</td>\n",
       "      <td>sedan</td>\n",
       "      <td>3.00</td>\n",
       "      <td>4.1</td>\n",
       "      <td>818.01</td>\n",
       "      <td>700.59</td>\n",
       "      <td>22.18</td>\n",
       "      <td>155.38</td>\n",
       "    </tr>\n",
       "    <tr>\n",
       "      <th>2</th>\n",
       "      <td>audi</td>\n",
       "      <td>q4 sportback e-tron 35</td>\n",
       "      <td>suv</td>\n",
       "      <td>8.30</td>\n",
       "      <td>9.0</td>\n",
       "      <td>167.62</td>\n",
       "      <td>228.61</td>\n",
       "      <td>18.77</td>\n",
       "      <td>99.44</td>\n",
       "    </tr>\n",
       "    <tr>\n",
       "      <th>3</th>\n",
       "      <td>audi</td>\n",
       "      <td>q4 e-tron 50 quattro</td>\n",
       "      <td>suv</td>\n",
       "      <td>8.15</td>\n",
       "      <td>6.2</td>\n",
       "      <td>295.02</td>\n",
       "      <td>339.23</td>\n",
       "      <td>27.98</td>\n",
       "      <td>111.87</td>\n",
       "    </tr>\n",
       "    <tr>\n",
       "      <th>4</th>\n",
       "      <td>audi</td>\n",
       "      <td>q4 e-tron 45 quattro</td>\n",
       "      <td>suv</td>\n",
       "      <td>8.15</td>\n",
       "      <td>6.9</td>\n",
       "      <td>261.50</td>\n",
       "      <td>313.42</td>\n",
       "      <td>27.98</td>\n",
       "      <td>111.87</td>\n",
       "    </tr>\n",
       "  </tbody>\n",
       "</table>\n",
       "</div>"
      ],
      "text/plain": [
       "('df_0', 0)         Brand                   Model Body Style  Time to Charge (hr)  Acceleration from 0 to 100 km/h (sec)  Motor Power (hp)  Maximum Torque (ft-lb)  Battery Energy (MBTU)  Top Speed (mph)\n",
       "0                  aiways                      u5        suv                10.00                                    7.5            201.15                  228.61                  21.50            93.23\n",
       "1            aston martin                rapide e      sedan                 3.00                                    4.1            818.01                  700.59                  22.18           155.38\n",
       "2                    audi  q4 sportback e-tron 35        suv                 8.30                                    9.0            167.62                  228.61                  18.77            99.44\n",
       "3                    audi    q4 e-tron 50 quattro        suv                 8.15                                    6.2            295.02                  339.23                  27.98           111.87\n",
       "4                    audi    q4 e-tron 45 quattro        suv                 8.15                                    6.9            261.50                  313.42                  27.98           111.87"
      ]
     },
     "execution_count": 389,
     "metadata": {},
     "output_type": "execute_result"
    }
   ],
   "source": [
    "imperial_df.head()"
   ]
  },
  {
   "attachments": {},
   "cell_type": "markdown",
   "metadata": {},
   "source": [
    "## Exporting the clean dataframe as \"ev_specs\""
   ]
  },
  {
   "cell_type": "code",
   "execution_count": 391,
   "metadata": {},
   "outputs": [],
   "source": [
    "#Create a final dataframe for exporting to .csv file \n",
    "ev_specs = imperial_df.copy()\n",
    "\n",
    "ev_specs.to_csv(r'C:\\Users\\kagom\\OneDrive\\Pictures\\Familiar\\Desktop\\DS4A Empowerment\\0 Project\\ev_specs.csv')"
   ]
  }
 ],
 "metadata": {
  "kernelspec": {
   "display_name": "Python 3",
   "language": "python",
   "name": "python3"
  },
  "language_info": {
   "codemirror_mode": {
    "name": "ipython",
    "version": 3
   },
   "file_extension": ".py",
   "mimetype": "text/x-python",
   "name": "python",
   "nbconvert_exporter": "python",
   "pygments_lexer": "ipython3",
   "version": "3.9.13"
  },
  "orig_nbformat": 4,
  "vscode": {
   "interpreter": {
    "hash": "b4a410a37008441fbb3377283153b8fbc8d390a35224e9fb1ba178c24071d305"
   }
  }
 },
 "nbformat": 4,
 "nbformat_minor": 2
}
