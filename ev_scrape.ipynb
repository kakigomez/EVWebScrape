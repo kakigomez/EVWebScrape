{
 "cells": [
  {
   "attachments": {},
   "cell_type": "markdown",
   "metadata": {},
   "source": [
    "# Install All Necessary Packages"
   ]
  },
  {
   "cell_type": "code",
   "execution_count": 4,
   "metadata": {},
   "outputs": [],
   "source": [
    "import pandas as pd\n",
    "import requests\n",
    "import numpy as np\n",
    "import matplotlib.pyplot as plt\n",
    "%matplotlib inline\n",
    "import time\n",
    "from selenium import webdriver\n",
    "from selenium.webdriver.common.by import By\n",
    "from webdriver_manager.chrome import ChromeDriverManager"
   ]
  },
  {
   "cell_type": "code",
   "execution_count": 2,
   "metadata": {},
   "outputs": [
    {
     "name": "stdout",
     "output_type": "stream",
     "text": [
      "Requirement already satisfied: BeautifulSoup4 in c:\\users\\kagom\\appdata\\local\\packages\\pythonsoftwarefoundation.python.3.9_qbz5n2kfra8p0\\localcache\\local-packages\\python39\\site-packages (4.11.1)\n",
      "Requirement already satisfied: soupsieve>1.2 in c:\\users\\kagom\\appdata\\local\\packages\\pythonsoftwarefoundation.python.3.9_qbz5n2kfra8p0\\localcache\\local-packages\\python39\\site-packages (from BeautifulSoup4) (2.3.2.post1)\n",
      "Note: you may need to restart the kernel to use updated packages.\n"
     ]
    }
   ],
   "source": [
    "pip install BeautifulSoup4"
   ]
  },
  {
   "cell_type": "code",
   "execution_count": 19,
   "metadata": {},
   "outputs": [],
   "source": [
    "from bs4 import BeautifulSoup as bs"
   ]
  },
  {
   "cell_type": "code",
   "execution_count": 43,
   "metadata": {},
   "outputs": [],
   "source": [
    "pd.set_option('display.max_rows', 500)\n",
    "pd.set_option('display.max_columns', 500)\n",
    "pd.set_option('display.width', 1000)"
   ]
  },
  {
   "attachments": {},
   "cell_type": "markdown",
   "metadata": {},
   "source": [
    "### Testing Out How the Selenium Library Works"
   ]
  },
  {
   "cell_type": "code",
   "execution_count": 5,
   "metadata": {},
   "outputs": [
    {
     "name": "stderr",
     "output_type": "stream",
     "text": [
      "C:\\Users\\kagom\\AppData\\Local\\Temp\\ipykernel_5416\\1132155773.py:1: DeprecationWarning: executable_path has been deprecated, please pass in a Service object\n",
      "  driver = webdriver.Chrome(ChromeDriverManager().install())\n"
     ]
    }
   ],
   "source": [
    "#Create the Driver\n",
    "driver = webdriver.Chrome(ChromeDriverManager().install())\n",
    "\n",
    "page_url = \"https://evehiclesdb.com/category/transport/electric-cars/\"\n",
    "driver.get(page_url)"
   ]
  },
  {
   "cell_type": "code",
   "execution_count": 6,
   "metadata": {},
   "outputs": [],
   "source": [
    "ev_categories = driver.find_elements(By.CLASS_NAME, \"brand_list_item\")\n",
    "\n",
    "ev_categories[0].get_attribute('href')"
   ]
  },
  {
   "cell_type": "code",
   "execution_count": 15,
   "metadata": {},
   "outputs": [],
   "source": [
    "ev_element = driver.find_elements(By.CLASS_NAME, \"top_cars_list_item\")\n",
    "\n",
    "ev_element"
   ]
  },
  {
   "attachments": {},
   "cell_type": "markdown",
   "metadata": {},
   "source": [
    "# Full Code"
   ]
  },
  {
   "attachments": {},
   "cell_type": "markdown",
   "metadata": {},
   "source": [
    "## Generate a list of URLs to scrape from"
   ]
  },
  {
   "cell_type": "code",
   "execution_count": 67,
   "metadata": {},
   "outputs": [
    {
     "name": "stderr",
     "output_type": "stream",
     "text": [
      "C:\\Users\\kagom\\AppData\\Local\\Temp\\ipykernel_7180\\3269401552.py:2: DeprecationWarning: executable_path has been deprecated, please pass in a Service object\n",
      "  driver = webdriver.Chrome(ChromeDriverManager().install())\n"
     ]
    }
   ],
   "source": [
    "# Create Driver\n",
    "driver = webdriver.Chrome(ChromeDriverManager().install())\n",
    "\n",
    "#Go to the EVs DB page\n",
    "page_url = \"https://evehiclesdb.com/category/transport/electric-cars/\"\n",
    "driver.get(page_url)\n",
    "\n",
    "#Find EV makes\n",
    "ev_make = driver.find_elements(By.CLASS_NAME, \"brand_list_item\")\n",
    "\n",
    "ev_makes = [] #creates an empty list\n",
    "for make in ev_make:\n",
    "    make_url = make.get_attribute('href')\n",
    "    make_name = make.text\n",
    "    ev_makes.append({'ev make' : make_name, 'url': make_url})"
   ]
  },
  {
   "cell_type": "code",
   "execution_count": 18,
   "metadata": {},
   "outputs": [
    {
     "data": {
      "text/plain": [
       "[{'ev make': 'Aiways (1)',\n",
       "  'url': 'https://evehiclesdb.com/brands/aiways?category=electric-cars'},\n",
       " {'ev make': 'Aston Martin (1)',\n",
       "  'url': 'https://evehiclesdb.com/brands/aston-martin?category=electric-cars'},\n",
       " {'ev make': 'Audi (13)',\n",
       "  'url': 'https://evehiclesdb.com/brands/audi?category=electric-cars'},\n",
       " {'ev make': 'BAIC (1)',\n",
       "  'url': 'https://evehiclesdb.com/brands/baic?category=electric-cars'},\n",
       " {'ev make': 'BMW (9)',\n",
       "  'url': 'https://evehiclesdb.com/brands/bmw?category=electric-cars'},\n",
       " {'ev make': 'Byton (3)',\n",
       "  'url': 'https://evehiclesdb.com/brands/byton?category=electric-cars'},\n",
       " {'ev make': 'Citroen (8)',\n",
       "  'url': 'https://evehiclesdb.com/brands/citroen?category=electric-cars'},\n",
       " {'ev make': 'CUPRA (4)',\n",
       "  'url': 'https://evehiclesdb.com/brands/cupra?category=electric-cars'},\n",
       " {'ev make': 'Dacia (1)',\n",
       "  'url': 'https://evehiclesdb.com/brands/dacia?category=electric-cars'},\n",
       " {'ev make': 'DS (1)',\n",
       "  'url': 'https://evehiclesdb.com/brands/ds?category=electric-cars'},\n",
       " {'ev make': 'Fiat (10)',\n",
       "  'url': 'https://evehiclesdb.com/brands/fiat?category=electric-cars'},\n",
       " {'ev make': 'Fisker (4)',\n",
       "  'url': 'https://evehiclesdb.com/brands/fisker?category=electric-cars'},\n",
       " {'ev make': 'Ford (5)',\n",
       "  'url': 'https://evehiclesdb.com/brands/ford?category=electric-cars'},\n",
       " {'ev make': 'Genesis (2)',\n",
       "  'url': 'https://evehiclesdb.com/brands/genesis?category=electric-cars'},\n",
       " {'ev make': 'Honda (5)',\n",
       "  'url': 'https://evehiclesdb.com/brands/honda?category=electric-cars'},\n",
       " {'ev make': 'Hongqi (2)',\n",
       "  'url': 'https://evehiclesdb.com/brands/hongqi?category=electric-cars'},\n",
       " {'ev make': 'Hyundai (11)',\n",
       "  'url': 'https://evehiclesdb.com/brands/hyundai?category=electric-cars'},\n",
       " {'ev make': 'Jaguar (1)',\n",
       "  'url': 'https://evehiclesdb.com/brands/jaguar?category=electric-cars'},\n",
       " {'ev make': 'KANDI (3)',\n",
       "  'url': 'https://evehiclesdb.com/brands/kandi?category=electric-cars'},\n",
       " {'ev make': 'Kia (8)',\n",
       "  'url': 'https://evehiclesdb.com/brands/kia?category=electric-cars'},\n",
       " {'ev make': 'Lexus (3)',\n",
       "  'url': 'https://evehiclesdb.com/brands/lexus?category=electric-cars'},\n",
       " {'ev make': 'Lightyear (1)',\n",
       "  'url': 'https://evehiclesdb.com/brands/lightyear?category=electric-cars'},\n",
       " {'ev make': 'Lucid (4)',\n",
       "  'url': 'https://evehiclesdb.com/brands/lucid?category=electric-cars'},\n",
       " {'ev make': 'Mazda (2)',\n",
       "  'url': 'https://evehiclesdb.com/brands/mazda?category=electric-cars'},\n",
       " {'ev make': 'Mercedes (13)',\n",
       "  'url': 'https://evehiclesdb.com/brands/mercedes?category=electric-cars'},\n",
       " {'ev make': 'MG (7)',\n",
       "  'url': 'https://evehiclesdb.com/brands/mg?category=electric-cars'},\n",
       " {'ev make': 'Mini (1)',\n",
       "  'url': 'https://evehiclesdb.com/brands/mini?category=electric-cars'},\n",
       " {'ev make': 'Nissan (8)',\n",
       "  'url': 'https://evehiclesdb.com/brands/nissan?category=electric-cars'},\n",
       " {'ev make': 'Opel (6)',\n",
       "  'url': 'https://evehiclesdb.com/brands/opel?category=electric-cars'},\n",
       " {'ev make': 'Peugeot (10)',\n",
       "  'url': 'https://evehiclesdb.com/brands/peugeot?category=electric-cars'},\n",
       " {'ev make': 'Polestar (3)',\n",
       "  'url': 'https://evehiclesdb.com/brands/polestar?category=electric-cars'},\n",
       " {'ev make': 'Porsche (9)',\n",
       "  'url': 'https://evehiclesdb.com/brands/porsche?category=electric-cars'},\n",
       " {'ev make': 'Renault (7)',\n",
       "  'url': 'https://evehiclesdb.com/brands/renault?category=electric-cars'},\n",
       " {'ev make': 'Skoda (6)',\n",
       "  'url': 'https://evehiclesdb.com/brands/skoda?category=electric-cars'},\n",
       " {'ev make': 'Smart (4)',\n",
       "  'url': 'https://evehiclesdb.com/brands/smart?category=electric-cars'},\n",
       " {'ev make': 'Sono (1)',\n",
       "  'url': 'https://evehiclesdb.com/brands/sono?category=electric-cars'},\n",
       " {'ev make': 'Tesla (9)',\n",
       "  'url': 'https://evehiclesdb.com/brands/tesla?category=electric-cars'},\n",
       " {'ev make': 'Toyota (4)',\n",
       "  'url': 'https://evehiclesdb.com/brands/toyota?category=electric-cars'},\n",
       " {'ev make': 'Volkswagen (10)',\n",
       "  'url': 'https://evehiclesdb.com/brands/volkswagen?category=electric-cars'},\n",
       " {'ev make': 'Volvo (4)',\n",
       "  'url': 'https://evehiclesdb.com/brands/volvo?category=electric-cars'},\n",
       " {'ev make': 'XPENG (1)',\n",
       "  'url': 'https://evehiclesdb.com/brands/xpeng?category=electric-cars'},\n",
       " {'ev make': 'ZhiDou (8)',\n",
       "  'url': 'https://evehiclesdb.com/brands/zhi-dou?category=electric-cars'}]"
      ]
     },
     "execution_count": 18,
     "metadata": {},
     "output_type": "execute_result"
    }
   ],
   "source": [
    "#Testing cell\n",
    "ev_makes"
   ]
  },
  {
   "cell_type": "code",
   "execution_count": 68,
   "metadata": {},
   "outputs": [],
   "source": [
    "ev_model = [] #list for all the EV models\n",
    "\n",
    "for model in ev_makes:\n",
    "    driver.get(model['url'])\n",
    "    \n",
    "    ev_models = driver.find_elements(By.CLASS_NAME, \"top_cars_list_item\")\n",
    "    \n",
    "       \n",
    "    for models in ev_models:\n",
    "        #models_url = 'https://evehiclesdb.com/transport/'+ model +'/'\n",
    "        ev_model.append({'ev make': model['ev make'], 'model': models.text})"
   ]
  },
  {
   "cell_type": "code",
   "execution_count": 69,
   "metadata": {},
   "outputs": [
    {
     "ename": "NoSuchElementException",
     "evalue": "Message: no such element: Unable to locate element: {\"method\":\"xpath\",\"selector\":\"//span[text()=\"Specifications\"]\"}\n  (Session info: chrome=109.0.5414.74)\nStacktrace:\nBacktrace:\n\t(No symbol) [0x01206643]\n\t(No symbol) [0x0119BE21]\n\t(No symbol) [0x0109DA9D]\n\t(No symbol) [0x010D1342]\n\t(No symbol) [0x010D147B]\n\t(No symbol) [0x01108DC2]\n\t(No symbol) [0x010EFDC4]\n\t(No symbol) [0x01106B09]\n\t(No symbol) [0x010EFB76]\n\t(No symbol) [0x010C49C1]\n\t(No symbol) [0x010C5E5D]\n\tGetHandleVerifier [0x0147A142+2497106]\n\tGetHandleVerifier [0x014A85D3+2686691]\n\tGetHandleVerifier [0x014ABB9C+2700460]\n\tGetHandleVerifier [0x012B3B10+635936]\n\t(No symbol) [0x011A4A1F]\n\t(No symbol) [0x011AA418]\n\t(No symbol) [0x011AA505]\n\t(No symbol) [0x011B508B]\n\tBaseThreadInitThunk [0x76227D69+25]\n\tRtlInitializeExceptionChain [0x77B5BB9B+107]\n\tRtlClearBits [0x77B5BB1F+191]\n",
     "output_type": "error",
     "traceback": [
      "\u001b[1;31m---------------------------------------------------------------------------\u001b[0m",
      "\u001b[1;31mNoSuchElementException\u001b[0m                    Traceback (most recent call last)",
      "Cell \u001b[1;32mIn [69], line 7\u001b[0m\n\u001b[0;32m      5\u001b[0m ev_df[\u001b[39m'\u001b[39m\u001b[39murl\u001b[39m\u001b[39m'\u001b[39m] \u001b[39m=\u001b[39m \u001b[39m'\u001b[39m\u001b[39mhttps://evehiclesdb.com/transport/\u001b[39m\u001b[39m'\u001b[39m\u001b[39m+\u001b[39mev_df[\u001b[39m'\u001b[39m\u001b[39murl string\u001b[39m\u001b[39m'\u001b[39m]\u001b[39m+\u001b[39m\u001b[39m'\u001b[39m\u001b[39m/\u001b[39m\u001b[39m'\u001b[39m\n\u001b[0;32m      6\u001b[0m \u001b[39m#some of the URL pages in this database have buttons and we need to always make sure we are accessing \"Specifications\"\u001b[39;00m\n\u001b[1;32m----> 7\u001b[0m driver\u001b[39m.\u001b[39;49mfind_element(By\u001b[39m.\u001b[39;49mXPATH, \u001b[39m'\u001b[39;49m\u001b[39m//span[text()=\u001b[39;49m\u001b[39m\"\u001b[39;49m\u001b[39mSpecifications\u001b[39;49m\u001b[39m\"\u001b[39;49m\u001b[39m]\u001b[39;49m\u001b[39m'\u001b[39;49m)\u001b[39m.\u001b[39mclick()\n",
      "File \u001b[1;32m~\\AppData\\Local\\Packages\\PythonSoftwareFoundation.Python.3.9_qbz5n2kfra8p0\\LocalCache\\local-packages\\Python39\\site-packages\\selenium\\webdriver\\remote\\webdriver.py:861\u001b[0m, in \u001b[0;36mWebDriver.find_element\u001b[1;34m(self, by, value)\u001b[0m\n\u001b[0;32m    858\u001b[0m     by \u001b[39m=\u001b[39m By\u001b[39m.\u001b[39mCSS_SELECTOR\n\u001b[0;32m    859\u001b[0m     value \u001b[39m=\u001b[39m \u001b[39m'\u001b[39m\u001b[39m[name=\u001b[39m\u001b[39m\"\u001b[39m\u001b[39m%s\u001b[39;00m\u001b[39m\"\u001b[39m\u001b[39m]\u001b[39m\u001b[39m'\u001b[39m \u001b[39m%\u001b[39m value\n\u001b[1;32m--> 861\u001b[0m \u001b[39mreturn\u001b[39;00m \u001b[39mself\u001b[39;49m\u001b[39m.\u001b[39;49mexecute(Command\u001b[39m.\u001b[39;49mFIND_ELEMENT, {\u001b[39m\"\u001b[39;49m\u001b[39musing\u001b[39;49m\u001b[39m\"\u001b[39;49m: by, \u001b[39m\"\u001b[39;49m\u001b[39mvalue\u001b[39;49m\u001b[39m\"\u001b[39;49m: value})[\u001b[39m\"\u001b[39m\u001b[39mvalue\u001b[39m\u001b[39m\"\u001b[39m]\n",
      "File \u001b[1;32m~\\AppData\\Local\\Packages\\PythonSoftwareFoundation.Python.3.9_qbz5n2kfra8p0\\LocalCache\\local-packages\\Python39\\site-packages\\selenium\\webdriver\\remote\\webdriver.py:444\u001b[0m, in \u001b[0;36mWebDriver.execute\u001b[1;34m(self, driver_command, params)\u001b[0m\n\u001b[0;32m    442\u001b[0m response \u001b[39m=\u001b[39m \u001b[39mself\u001b[39m\u001b[39m.\u001b[39mcommand_executor\u001b[39m.\u001b[39mexecute(driver_command, params)\n\u001b[0;32m    443\u001b[0m \u001b[39mif\u001b[39;00m response:\n\u001b[1;32m--> 444\u001b[0m     \u001b[39mself\u001b[39;49m\u001b[39m.\u001b[39;49merror_handler\u001b[39m.\u001b[39;49mcheck_response(response)\n\u001b[0;32m    445\u001b[0m     response[\u001b[39m\"\u001b[39m\u001b[39mvalue\u001b[39m\u001b[39m\"\u001b[39m] \u001b[39m=\u001b[39m \u001b[39mself\u001b[39m\u001b[39m.\u001b[39m_unwrap_value(response\u001b[39m.\u001b[39mget(\u001b[39m\"\u001b[39m\u001b[39mvalue\u001b[39m\u001b[39m\"\u001b[39m, \u001b[39mNone\u001b[39;00m))\n\u001b[0;32m    446\u001b[0m     \u001b[39mreturn\u001b[39;00m response\n",
      "File \u001b[1;32m~\\AppData\\Local\\Packages\\PythonSoftwareFoundation.Python.3.9_qbz5n2kfra8p0\\LocalCache\\local-packages\\Python39\\site-packages\\selenium\\webdriver\\remote\\errorhandler.py:249\u001b[0m, in \u001b[0;36mErrorHandler.check_response\u001b[1;34m(self, response)\u001b[0m\n\u001b[0;32m    247\u001b[0m         alert_text \u001b[39m=\u001b[39m value[\u001b[39m\"\u001b[39m\u001b[39malert\u001b[39m\u001b[39m\"\u001b[39m]\u001b[39m.\u001b[39mget(\u001b[39m\"\u001b[39m\u001b[39mtext\u001b[39m\u001b[39m\"\u001b[39m)\n\u001b[0;32m    248\u001b[0m     \u001b[39mraise\u001b[39;00m exception_class(message, screen, stacktrace, alert_text)  \u001b[39m# type: ignore[call-arg]  # mypy is not smart enough here\u001b[39;00m\n\u001b[1;32m--> 249\u001b[0m \u001b[39mraise\u001b[39;00m exception_class(message, screen, stacktrace)\n",
      "\u001b[1;31mNoSuchElementException\u001b[0m: Message: no such element: Unable to locate element: {\"method\":\"xpath\",\"selector\":\"//span[text()=\"Specifications\"]\"}\n  (Session info: chrome=109.0.5414.74)\nStacktrace:\nBacktrace:\n\t(No symbol) [0x01206643]\n\t(No symbol) [0x0119BE21]\n\t(No symbol) [0x0109DA9D]\n\t(No symbol) [0x010D1342]\n\t(No symbol) [0x010D147B]\n\t(No symbol) [0x01108DC2]\n\t(No symbol) [0x010EFDC4]\n\t(No symbol) [0x01106B09]\n\t(No symbol) [0x010EFB76]\n\t(No symbol) [0x010C49C1]\n\t(No symbol) [0x010C5E5D]\n\tGetHandleVerifier [0x0147A142+2497106]\n\tGetHandleVerifier [0x014A85D3+2686691]\n\tGetHandleVerifier [0x014ABB9C+2700460]\n\tGetHandleVerifier [0x012B3B10+635936]\n\t(No symbol) [0x011A4A1F]\n\t(No symbol) [0x011AA418]\n\t(No symbol) [0x011AA505]\n\t(No symbol) [0x011B508B]\n\tBaseThreadInitThunk [0x76227D69+25]\n\tRtlInitializeExceptionChain [0x77B5BB9B+107]\n\tRtlClearBits [0x77B5BB1F+191]\n"
     ]
    }
   ],
   "source": [
    "#This will generate the url for each EV\n",
    "ev_df = pd.DataFrame(ev_model)\n",
    "ev_df['url string'] = ev_df['model'].str.split(' ').str.join(\"-\").str.lower()\n",
    "\n",
    "ev_df['url'] = 'https://evehiclesdb.com/transport/'+ev_df['url string']+'/'\n",
    "#some of the URL pages in this database have buttons and we need to always make sure we are accessing \"Specifications\"\n",
    "#driver.find_element(By.XPATH, '//span[text()=\"Specifications\"]').click()\n",
    "\n"
   ]
  },
  {
   "attachments": {},
   "cell_type": "markdown",
   "metadata": {},
   "source": [
    "## Function to Scrape an HTML Table"
   ]
  },
  {
   "cell_type": "code",
   "execution_count": 45,
   "metadata": {},
   "outputs": [],
   "source": [
    "def table_scrape(table):\n",
    "    \"\"\"Parses an html segment started with tag <table> followed \n",
    "    by multiple <tr> (table rows) and inner <td> (table data) tags.\n",
    "    It returns a list of rows with inner columns.\n",
    "    \"\"\"\n",
    "    def row_scrape(tr, coltag='td'): #td (data) \n",
    "        return [td.get_text(strip=True) for td in tr.find_all(coltag)]\n",
    "    rows = []\n",
    "    trs = table.find_all('tr')\n",
    "    for tr in trs: #for every table row\n",
    "        rows.append(row_scrape(tr, 'td')) #data row\n",
    "    return rows"
   ]
  },
  {
   "cell_type": "code",
   "execution_count": 51,
   "metadata": {},
   "outputs": [],
   "source": [
    "#Testing a single URL with the scraping function created in the cell before\n",
    "url_test = 'https://evehiclesdb.com/transport/honda-e/'\n",
    "\n",
    "response_test = requests.get(url_test)\n",
    "soup_test = bs(response_test.text, 'html.parser')\n",
    "ev_table_test = soup_test.find('table', dir='ltr')\n",
    "\n",
    "test_table = pd.DataFrame(table_scrape(ev_table_test))\n",
    "#test_table[:3]"
   ]
  },
  {
   "cell_type": "code",
   "execution_count": 49,
   "metadata": {},
   "outputs": [
    {
     "data": {
      "text/html": [
       "<div>\n",
       "<style scoped>\n",
       "    .dataframe tbody tr th:only-of-type {\n",
       "        vertical-align: middle;\n",
       "    }\n",
       "\n",
       "    .dataframe tbody tr th {\n",
       "        vertical-align: top;\n",
       "    }\n",
       "\n",
       "    .dataframe thead th {\n",
       "        text-align: right;\n",
       "    }\n",
       "</style>\n",
       "<table border=\"1\" class=\"dataframe\">\n",
       "  <thead>\n",
       "    <tr style=\"text-align: right;\">\n",
       "      <th></th>\n",
       "      <th>0</th>\n",
       "      <th>1</th>\n",
       "    </tr>\n",
       "  </thead>\n",
       "  <tbody>\n",
       "    <tr>\n",
       "      <th>0</th>\n",
       "      <td>Performance</td>\n",
       "      <td></td>\n",
       "    </tr>\n",
       "    <tr>\n",
       "      <th>1</th>\n",
       "      <td>Acceleration 0 – 100 km/h</td>\n",
       "      <td>9.0 sec</td>\n",
       "    </tr>\n",
       "    <tr>\n",
       "      <th>2</th>\n",
       "      <td>Top Speed</td>\n",
       "      <td>145 km/h</td>\n",
       "    </tr>\n",
       "    <tr>\n",
       "      <th>3</th>\n",
       "      <td>Electric Range</td>\n",
       "      <td>170 km</td>\n",
       "    </tr>\n",
       "    <tr>\n",
       "      <th>4</th>\n",
       "      <td>Total Power</td>\n",
       "      <td>100 kW (136 PS)</td>\n",
       "    </tr>\n",
       "    <tr>\n",
       "      <th>...</th>\n",
       "      <td>...</td>\n",
       "      <td>...</td>\n",
       "    </tr>\n",
       "    <tr>\n",
       "      <th>78</th>\n",
       "      <td>Platform</td>\n",
       "      <td>No Data</td>\n",
       "    </tr>\n",
       "    <tr>\n",
       "      <th>79</th>\n",
       "      <td>Car Body</td>\n",
       "      <td>Hatchback</td>\n",
       "    </tr>\n",
       "    <tr>\n",
       "      <th>80</th>\n",
       "      <td>Segment</td>\n",
       "      <td>B – Small</td>\n",
       "    </tr>\n",
       "    <tr>\n",
       "      <th>81</th>\n",
       "      <td>Roof Rails</td>\n",
       "      <td>No</td>\n",
       "    </tr>\n",
       "    <tr>\n",
       "      <th>82</th>\n",
       "      <td>EV Dedicated Platform</td>\n",
       "      <td>No Data</td>\n",
       "    </tr>\n",
       "  </tbody>\n",
       "</table>\n",
       "<p>83 rows × 2 columns</p>\n",
       "</div>"
      ],
      "text/plain": [
       "                            0                1\n",
       "0                 Performance                 \n",
       "1   Acceleration 0 – 100 km/h          9.0 sec\n",
       "2                   Top Speed         145 km/h\n",
       "3              Electric Range           170 km\n",
       "4                 Total Power  100 kW (136 PS)\n",
       "..                        ...              ...\n",
       "78                   Platform          No Data\n",
       "79                   Car Body        Hatchback\n",
       "80                    Segment        B – Small\n",
       "81                 Roof Rails               No\n",
       "82      EV Dedicated Platform          No Data\n",
       "\n",
       "[83 rows x 2 columns]"
      ]
     },
     "execution_count": 49,
     "metadata": {},
     "output_type": "execute_result"
    }
   ],
   "source": [
    "test_table "
   ]
  },
  {
   "attachments": {},
   "cell_type": "markdown",
   "metadata": {},
   "source": [
    "## Scrape ALL HTML Tables from ALL the URLs "
   ]
  },
  {
   "cell_type": "code",
   "execution_count": 63,
   "metadata": {},
   "outputs": [
    {
     "data": {
      "text/html": [
       "<div>\n",
       "<style scoped>\n",
       "    .dataframe tbody tr th:only-of-type {\n",
       "        vertical-align: middle;\n",
       "    }\n",
       "\n",
       "    .dataframe tbody tr th {\n",
       "        vertical-align: top;\n",
       "    }\n",
       "\n",
       "    .dataframe thead th {\n",
       "        text-align: right;\n",
       "    }\n",
       "</style>\n",
       "<table border=\"1\" class=\"dataframe\">\n",
       "  <thead>\n",
       "    <tr style=\"text-align: right;\">\n",
       "      <th></th>\n",
       "      <th>0</th>\n",
       "      <th>1</th>\n",
       "    </tr>\n",
       "  </thead>\n",
       "  <tbody>\n",
       "    <tr>\n",
       "      <th>0</th>\n",
       "      <td>Performance</td>\n",
       "      <td></td>\n",
       "    </tr>\n",
       "    <tr>\n",
       "      <th>1</th>\n",
       "      <td>Acceleration 0 – 100 km/h</td>\n",
       "      <td>7.5 sec</td>\n",
       "    </tr>\n",
       "    <tr>\n",
       "      <th>2</th>\n",
       "      <td>Top Speed</td>\n",
       "      <td>150 km/h</td>\n",
       "    </tr>\n",
       "    <tr>\n",
       "      <th>3</th>\n",
       "      <td>Electric Range</td>\n",
       "      <td>330 km</td>\n",
       "    </tr>\n",
       "    <tr>\n",
       "      <th>4</th>\n",
       "      <td>Total Power</td>\n",
       "      <td>150 kW (204 PS)</td>\n",
       "    </tr>\n",
       "    <tr>\n",
       "      <th>...</th>\n",
       "      <td>...</td>\n",
       "      <td>...</td>\n",
       "    </tr>\n",
       "    <tr>\n",
       "      <th>86</th>\n",
       "      <td>Platform</td>\n",
       "      <td>No Data</td>\n",
       "    </tr>\n",
       "    <tr>\n",
       "      <th>87</th>\n",
       "      <td>Car Body</td>\n",
       "      <td>SUV</td>\n",
       "    </tr>\n",
       "    <tr>\n",
       "      <th>88</th>\n",
       "      <td>Segment</td>\n",
       "      <td>JC – Medium</td>\n",
       "    </tr>\n",
       "    <tr>\n",
       "      <th>89</th>\n",
       "      <td>Roof Rails</td>\n",
       "      <td>Yes</td>\n",
       "    </tr>\n",
       "    <tr>\n",
       "      <th>90</th>\n",
       "      <td>EV Dedicated Platform</td>\n",
       "      <td>No Data</td>\n",
       "    </tr>\n",
       "  </tbody>\n",
       "</table>\n",
       "<p>91 rows × 2 columns</p>\n",
       "</div>"
      ],
      "text/plain": [
       "                            0                1\n",
       "0                 Performance                 \n",
       "1   Acceleration 0 – 100 km/h          7.5 sec\n",
       "2                   Top Speed         150 km/h\n",
       "3              Electric Range           330 km\n",
       "4                 Total Power  150 kW (204 PS)\n",
       "..                        ...              ...\n",
       "86                   Platform          No Data\n",
       "87                   Car Body              SUV\n",
       "88                    Segment      JC – Medium\n",
       "89                 Roof Rails              Yes\n",
       "90      EV Dedicated Platform          No Data\n",
       "\n",
       "[91 rows x 2 columns]"
      ]
     },
     "execution_count": 63,
     "metadata": {},
     "output_type": "execute_result"
    }
   ],
   "source": [
    "ev_list = list(ev_df['url']) #List of all the urls for each EV\n",
    "\n",
    "#comp_ev_table = pd.DataFrame\n",
    "evs = []\n",
    "count = 0\n",
    "# while count <= len(ev_list): #While count is less than or equal to the total number of EVs in the database\n",
    "#     url = ev_list[count] #this is the individual url string for each EV\n",
    "#     response = requests.get(url)\n",
    "#     soup = bs(response.text, 'html.parser')\n",
    "#     ev_table = soup.find('table', dir='ltr')\n",
    "   \n",
    "#     comp_ev_table = table_scrape(ev_table)\n",
    "\n",
    "#     count += 1 \n",
    "\n",
    "#url = ev_list[count] #this is the individual url string for each EV\n",
    "response = requests.get(ev_list[0])\n",
    "soup = bs(response.text, 'html.parser')\n",
    "ev_table = soup.find('table', dir='ltr')\n",
    "   \n",
    "comp_ev = pd.DataFrame(table_scrape(ev_table))\n",
    "comp_ev\n"
   ]
  },
  {
   "cell_type": "code",
   "execution_count": 89,
   "metadata": {},
   "outputs": [
    {
     "data": {
      "text/plain": [
       "'https://evehiclesdb.com/transport/bmw-ix-xdrive50/'"
      ]
     },
     "execution_count": 89,
     "metadata": {},
     "output_type": "execute_result"
    }
   ],
   "source": [
    "ev_list[17]"
   ]
  },
  {
   "cell_type": "code",
   "execution_count": 90,
   "metadata": {},
   "outputs": [
    {
     "data": {
      "text/html": [
       "<div>\n",
       "<style scoped>\n",
       "    .dataframe tbody tr th:only-of-type {\n",
       "        vertical-align: middle;\n",
       "    }\n",
       "\n",
       "    .dataframe tbody tr th {\n",
       "        vertical-align: top;\n",
       "    }\n",
       "\n",
       "    .dataframe thead th {\n",
       "        text-align: right;\n",
       "    }\n",
       "</style>\n",
       "<table border=\"1\" class=\"dataframe\">\n",
       "  <thead>\n",
       "    <tr style=\"text-align: right;\">\n",
       "      <th></th>\n",
       "      <th>0</th>\n",
       "      <th>1</th>\n",
       "      <th>2</th>\n",
       "      <th>3</th>\n",
       "      <th>4</th>\n",
       "    </tr>\n",
       "  </thead>\n",
       "  <tbody>\n",
       "    <tr>\n",
       "      <th>0</th>\n",
       "      <td>Charging Point</td>\n",
       "      <td>Max. Power</td>\n",
       "      <td>Power</td>\n",
       "      <td>Time</td>\n",
       "      <td>Rate</td>\n",
       "    </tr>\n",
       "    <tr>\n",
       "      <th>1</th>\n",
       "      <td>Wall Plug (2.3 kW)</td>\n",
       "      <td>230V / 1x10A</td>\n",
       "      <td>2.3 kW</td>\n",
       "      <td>54 hours</td>\n",
       "      <td>9 km/h</td>\n",
       "    </tr>\n",
       "    <tr>\n",
       "      <th>2</th>\n",
       "      <td>1-phase 16A (3.7 kW)</td>\n",
       "      <td>230V / 1x16A</td>\n",
       "      <td>3.7 kW</td>\n",
       "      <td>33h30m</td>\n",
       "      <td>15 km/h</td>\n",
       "    </tr>\n",
       "    <tr>\n",
       "      <th>3</th>\n",
       "      <td>1-phase 32A (7.4 kW)</td>\n",
       "      <td>230V / 1x32A</td>\n",
       "      <td>7.4 kW</td>\n",
       "      <td>16h45m</td>\n",
       "      <td>30 km/h</td>\n",
       "    </tr>\n",
       "    <tr>\n",
       "      <th>4</th>\n",
       "      <td>3-phase 16A (11 kW)</td>\n",
       "      <td>400V / 3x16A</td>\n",
       "      <td>11 kW</td>\n",
       "      <td>11h15m</td>\n",
       "      <td>45 km/h</td>\n",
       "    </tr>\n",
       "    <tr>\n",
       "      <th>5</th>\n",
       "      <td>3-phase 32A (22 kW)</td>\n",
       "      <td>400V / 3x16A</td>\n",
       "      <td>11 kW</td>\n",
       "      <td>11h15m</td>\n",
       "      <td>45 km/h</td>\n",
       "    </tr>\n",
       "  </tbody>\n",
       "</table>\n",
       "</div>"
      ],
      "text/plain": [
       "                      0             1       2         3        4\n",
       "0        Charging Point    Max. Power   Power      Time     Rate\n",
       "1    Wall Plug (2.3 kW)  230V / 1x10A  2.3 kW  54 hours   9 km/h\n",
       "2  1-phase 16A (3.7 kW)  230V / 1x16A  3.7 kW    33h30m  15 km/h\n",
       "3  1-phase 32A (7.4 kW)  230V / 1x32A  7.4 kW    16h45m  30 km/h\n",
       "4   3-phase 16A (11 kW)  400V / 3x16A   11 kW    11h15m  45 km/h\n",
       "5   3-phase 32A (22 kW)  400V / 3x16A   11 kW    11h15m  45 km/h"
      ]
     },
     "execution_count": 90,
     "metadata": {},
     "output_type": "execute_result"
    }
   ],
   "source": [
    "#perhaps need to write an if statement that essentially says, if the first cell of the first row says Performance, continue. If not, move on. \n",
    "#Otherwise, it'll keep throwing errors.\n",
    "\n",
    "\n",
    "response = requests.get(ev_list[17])\n",
    "soup = bs(response.text, 'html.parser')\n",
    "ev_table = soup.find('table', dir='ltr')\n",
    "   \n",
    "comp_ev = pd.DataFrame(table_scrape(ev_table))\n",
    "comp_ev"
   ]
  },
  {
   "cell_type": "code",
   "execution_count": 54,
   "metadata": {},
   "outputs": [
    {
     "data": {
      "text/plain": [
       "str"
      ]
     },
     "execution_count": 54,
     "metadata": {},
     "output_type": "execute_result"
    }
   ],
   "source": [
    "type(ev_list[1])"
   ]
  }
 ],
 "metadata": {
  "kernelspec": {
   "display_name": "Python 3",
   "language": "python",
   "name": "python3"
  },
  "language_info": {
   "codemirror_mode": {
    "name": "ipython",
    "version": 3
   },
   "file_extension": ".py",
   "mimetype": "text/x-python",
   "name": "python",
   "nbconvert_exporter": "python",
   "pygments_lexer": "ipython3",
   "version": "3.9.13"
  },
  "orig_nbformat": 4,
  "vscode": {
   "interpreter": {
    "hash": "b4a410a37008441fbb3377283153b8fbc8d390a35224e9fb1ba178c24071d305"
   }
  }
 },
 "nbformat": 4,
 "nbformat_minor": 2
}
