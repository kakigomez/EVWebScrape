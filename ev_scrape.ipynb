{
 "cells": [
  {
   "cell_type": "code",
   "execution_count": 54,
   "metadata": {},
   "outputs": [],
   "source": [
    "import pandas as pd\n",
    "import requests\n",
    "import numpy as np\n",
    "import matplotlib.pyplot as plt\n",
    "import time\n",
    "from selenium import webdriver\n",
    "from selenium.webdriver.common.by import By\n",
    "from webdriver_manager.chrome import ChromeDriverManager"
   ]
  },
  {
   "cell_type": "code",
   "execution_count": 66,
   "metadata": {},
   "outputs": [
    {
     "name": "stdout",
     "output_type": "stream",
     "text": [
      "Requirement already satisfied: BeautifulSoup4 in c:\\users\\kagom\\appdata\\local\\packages\\pythonsoftwarefoundation.python.3.9_qbz5n2kfra8p0\\localcache\\local-packages\\python39\\site-packages (4.11.1)\n",
      "Requirement already satisfied: soupsieve>1.2 in c:\\users\\kagom\\appdata\\local\\packages\\pythonsoftwarefoundation.python.3.9_qbz5n2kfra8p0\\localcache\\local-packages\\python39\\site-packages (from BeautifulSoup4) (2.3.2.post1)\n",
      "Note: you may need to restart the kernel to use updated packages.\n"
     ]
    }
   ],
   "source": [
    "pip install BeautifulSoup4"
   ]
  },
  {
   "cell_type": "code",
   "execution_count": 65,
   "metadata": {},
   "outputs": [
    {
     "ename": "ImportError",
     "evalue": "cannot import name 'RubyParenthesisString' from 'bs4.element' (C:\\Users\\kagom\\AppData\\Local\\Packages\\PythonSoftwareFoundation.Python.3.9_qbz5n2kfra8p0\\LocalCache\\local-packages\\Python39\\site-packages\\bs4\\element.py)",
     "output_type": "error",
     "traceback": [
      "\u001b[1;31m---------------------------------------------------------------------------\u001b[0m",
      "\u001b[1;31mImportError\u001b[0m                               Traceback (most recent call last)",
      "Cell \u001b[1;32mIn [65], line 1\u001b[0m\n\u001b[1;32m----> 1\u001b[0m \u001b[39mfrom\u001b[39;00m \u001b[39mbs4\u001b[39;00m \u001b[39mimport\u001b[39;00m BeautifulSoup\n",
      "File \u001b[1;32mc:\\Users\\kagom\\Desktop\\git\\EVWebScrape\\bs4\\__init__.py:37\u001b[0m\n\u001b[0;32m     34\u001b[0m \u001b[39mif\u001b[39;00m sys\u001b[39m.\u001b[39mversion_info\u001b[39m.\u001b[39mmajor \u001b[39m<\u001b[39m \u001b[39m3\u001b[39m:\n\u001b[0;32m     35\u001b[0m     \u001b[39mraise\u001b[39;00m \u001b[39mImportError\u001b[39;00m(\u001b[39m'\u001b[39m\u001b[39mYou are trying to use a Python 3-specific version of Beautiful Soup under Python 2. This will not work. The final version of Beautiful Soup to support Python 2 was 4.9.3.\u001b[39m\u001b[39m'\u001b[39m)\n\u001b[1;32m---> 37\u001b[0m \u001b[39mfrom\u001b[39;00m \u001b[39m.\u001b[39;00m\u001b[39mbuilder\u001b[39;00m \u001b[39mimport\u001b[39;00m (\n\u001b[0;32m     38\u001b[0m     builder_registry,\n\u001b[0;32m     39\u001b[0m     ParserRejectedMarkup,\n\u001b[0;32m     40\u001b[0m     XMLParsedAsHTMLWarning,\n\u001b[0;32m     41\u001b[0m )\n\u001b[0;32m     42\u001b[0m \u001b[39mfrom\u001b[39;00m \u001b[39m.\u001b[39;00m\u001b[39mdammit\u001b[39;00m \u001b[39mimport\u001b[39;00m UnicodeDammit\n\u001b[0;32m     43\u001b[0m \u001b[39mfrom\u001b[39;00m \u001b[39m.\u001b[39;00m\u001b[39melement\u001b[39;00m \u001b[39mimport\u001b[39;00m (\n\u001b[0;32m     44\u001b[0m     CData,\n\u001b[0;32m     45\u001b[0m     Comment,\n\u001b[1;32m   (...)\u001b[0m\n\u001b[0;32m     58\u001b[0m     TemplateString,\n\u001b[0;32m     59\u001b[0m     )\n",
      "File \u001b[1;32mc:\\Users\\kagom\\Desktop\\git\\EVWebScrape\\bs4\\builder\\__init__.py:9\u001b[0m\n\u001b[0;32m      7\u001b[0m \u001b[39mimport\u001b[39;00m \u001b[39mwarnings\u001b[39;00m\n\u001b[0;32m      8\u001b[0m \u001b[39mimport\u001b[39;00m \u001b[39msys\u001b[39;00m\n\u001b[1;32m----> 9\u001b[0m \u001b[39mfrom\u001b[39;00m \u001b[39mbs4\u001b[39;00m\u001b[39m.\u001b[39;00m\u001b[39melement\u001b[39;00m \u001b[39mimport\u001b[39;00m (\n\u001b[0;32m     10\u001b[0m     CharsetMetaAttributeValue,\n\u001b[0;32m     11\u001b[0m     ContentMetaAttributeValue,\n\u001b[0;32m     12\u001b[0m     RubyParenthesisString,\n\u001b[0;32m     13\u001b[0m     RubyTextString,\n\u001b[0;32m     14\u001b[0m     Stylesheet,\n\u001b[0;32m     15\u001b[0m     Script,\n\u001b[0;32m     16\u001b[0m     TemplateString,\n\u001b[0;32m     17\u001b[0m     nonwhitespace_re\n\u001b[0;32m     18\u001b[0m )\n\u001b[0;32m     20\u001b[0m __all__ \u001b[39m=\u001b[39m [\n\u001b[0;32m     21\u001b[0m     \u001b[39m'\u001b[39m\u001b[39mHTMLTreeBuilder\u001b[39m\u001b[39m'\u001b[39m,\n\u001b[0;32m     22\u001b[0m     \u001b[39m'\u001b[39m\u001b[39mSAXTreeBuilder\u001b[39m\u001b[39m'\u001b[39m,\n\u001b[0;32m     23\u001b[0m     \u001b[39m'\u001b[39m\u001b[39mTreeBuilder\u001b[39m\u001b[39m'\u001b[39m,\n\u001b[0;32m     24\u001b[0m     \u001b[39m'\u001b[39m\u001b[39mTreeBuilderRegistry\u001b[39m\u001b[39m'\u001b[39m,\n\u001b[0;32m     25\u001b[0m     ]\n\u001b[0;32m     27\u001b[0m \u001b[39m# Some useful features for a TreeBuilder to have.\u001b[39;00m\n",
      "\u001b[1;31mImportError\u001b[0m: cannot import name 'RubyParenthesisString' from 'bs4.element' (C:\\Users\\kagom\\AppData\\Local\\Packages\\PythonSoftwareFoundation.Python.3.9_qbz5n2kfra8p0\\LocalCache\\local-packages\\Python39\\site-packages\\bs4\\element.py)"
     ]
    }
   ],
   "source": [
    "from bs4 import BeautifulSoup"
   ]
  },
  {
   "cell_type": "code",
   "execution_count": 43,
   "metadata": {},
   "outputs": [],
   "source": [
    "pd.set_option('display.max_rows', 500)\n",
    "pd.set_option('display.max_columns', 500)\n",
    "pd.set_option('display.width', 1000)"
   ]
  },
  {
   "attachments": {},
   "cell_type": "markdown",
   "metadata": {},
   "source": [
    "### Testing Out How the Selenium Library Works"
   ]
  },
  {
   "cell_type": "code",
   "execution_count": 5,
   "metadata": {},
   "outputs": [
    {
     "name": "stderr",
     "output_type": "stream",
     "text": [
      "C:\\Users\\kagom\\AppData\\Local\\Temp\\ipykernel_5416\\1132155773.py:1: DeprecationWarning: executable_path has been deprecated, please pass in a Service object\n",
      "  driver = webdriver.Chrome(ChromeDriverManager().install())\n"
     ]
    }
   ],
   "source": [
    "#Create the Driver\n",
    "driver = webdriver.Chrome(ChromeDriverManager().install())\n",
    "\n",
    "page_url = \"https://evehiclesdb.com/category/transport/electric-cars/\"\n",
    "driver.get(page_url)"
   ]
  },
  {
   "cell_type": "code",
   "execution_count": 6,
   "metadata": {},
   "outputs": [],
   "source": [
    "from selenium.webdriver.common.by import By\n",
    "\n",
    "ev_categories = driver.find_elements(By.CLASS_NAME, \"brand_list_item\")"
   ]
  },
  {
   "cell_type": "code",
   "execution_count": 8,
   "metadata": {},
   "outputs": [
    {
     "data": {
      "text/plain": [
       "'https://evehiclesdb.com/brands/aiways?category=electric-cars'"
      ]
     },
     "execution_count": 8,
     "metadata": {},
     "output_type": "execute_result"
    }
   ],
   "source": [
    "ev_categories[0].get_attribute('href')"
   ]
  },
  {
   "cell_type": "code",
   "execution_count": 15,
   "metadata": {},
   "outputs": [],
   "source": [
    "ev_element = driver.find_elements(By.CLASS_NAME, \"top_cars_list_item\")"
   ]
  },
  {
   "cell_type": "code",
   "execution_count": 16,
   "metadata": {},
   "outputs": [
    {
     "data": {
      "text/plain": [
       "[<selenium.webdriver.remote.webelement.WebElement (session=\"9327e42da3dd67b085338629a19eb975\", element=\"8434163d-aa15-4a25-9744-a58dc5479de8\")>,\n",
       " <selenium.webdriver.remote.webelement.WebElement (session=\"9327e42da3dd67b085338629a19eb975\", element=\"6bd27c8d-2a2f-4b88-9264-c390f52b09de\")>,\n",
       " <selenium.webdriver.remote.webelement.WebElement (session=\"9327e42da3dd67b085338629a19eb975\", element=\"ece836ec-c0f2-48bd-b704-90563b62b425\")>,\n",
       " <selenium.webdriver.remote.webelement.WebElement (session=\"9327e42da3dd67b085338629a19eb975\", element=\"033bb8a8-ec7d-4fae-960e-6320d5a6a7b5\")>,\n",
       " <selenium.webdriver.remote.webelement.WebElement (session=\"9327e42da3dd67b085338629a19eb975\", element=\"1745739a-cce5-4cab-b8a8-7f487ff23bc2\")>,\n",
       " <selenium.webdriver.remote.webelement.WebElement (session=\"9327e42da3dd67b085338629a19eb975\", element=\"aa735936-9a51-440a-b365-c40307c1b940\")>,\n",
       " <selenium.webdriver.remote.webelement.WebElement (session=\"9327e42da3dd67b085338629a19eb975\", element=\"ab23b20f-42c3-4bd1-88da-f32643a9818a\")>,\n",
       " <selenium.webdriver.remote.webelement.WebElement (session=\"9327e42da3dd67b085338629a19eb975\", element=\"a280562d-196a-4014-bea5-28213700675a\")>,\n",
       " <selenium.webdriver.remote.webelement.WebElement (session=\"9327e42da3dd67b085338629a19eb975\", element=\"cf2a17e2-f287-4b9a-bed0-ad9ae9518cd5\")>]"
      ]
     },
     "execution_count": 16,
     "metadata": {},
     "output_type": "execute_result"
    }
   ],
   "source": [
    "ev_element"
   ]
  },
  {
   "attachments": {},
   "cell_type": "markdown",
   "metadata": {},
   "source": [
    "# Full Code"
   ]
  },
  {
   "cell_type": "code",
   "execution_count": 17,
   "metadata": {},
   "outputs": [
    {
     "name": "stderr",
     "output_type": "stream",
     "text": [
      "C:\\Users\\kagom\\AppData\\Local\\Temp\\ipykernel_5416\\3269401552.py:2: DeprecationWarning: executable_path has been deprecated, please pass in a Service object\n",
      "  driver = webdriver.Chrome(ChromeDriverManager().install())\n"
     ]
    }
   ],
   "source": [
    "# Create Driver\n",
    "driver = webdriver.Chrome(ChromeDriverManager().install())\n",
    "\n",
    "#Go to the EVs DB page\n",
    "page_url = \"https://evehiclesdb.com/category/transport/electric-cars/\"\n",
    "driver.get(page_url)\n",
    "\n",
    "#Find EV makes\n",
    "ev_make = driver.find_elements(By.CLASS_NAME, \"brand_list_item\")\n",
    "\n",
    "ev_makes = [] #creates an empty list\n",
    "for make in ev_make:\n",
    "    make_url = make.get_attribute('href')\n",
    "    make_name = make.text\n",
    "    ev_makes.append({'ev make' : make_name, 'url': make_url})"
   ]
  },
  {
   "cell_type": "code",
   "execution_count": 18,
   "metadata": {},
   "outputs": [
    {
     "data": {
      "text/plain": [
       "[{'ev make': 'Aiways (1)',\n",
       "  'url': 'https://evehiclesdb.com/brands/aiways?category=electric-cars'},\n",
       " {'ev make': 'Aston Martin (1)',\n",
       "  'url': 'https://evehiclesdb.com/brands/aston-martin?category=electric-cars'},\n",
       " {'ev make': 'Audi (13)',\n",
       "  'url': 'https://evehiclesdb.com/brands/audi?category=electric-cars'},\n",
       " {'ev make': 'BAIC (1)',\n",
       "  'url': 'https://evehiclesdb.com/brands/baic?category=electric-cars'},\n",
       " {'ev make': 'BMW (9)',\n",
       "  'url': 'https://evehiclesdb.com/brands/bmw?category=electric-cars'},\n",
       " {'ev make': 'Byton (3)',\n",
       "  'url': 'https://evehiclesdb.com/brands/byton?category=electric-cars'},\n",
       " {'ev make': 'Citroen (8)',\n",
       "  'url': 'https://evehiclesdb.com/brands/citroen?category=electric-cars'},\n",
       " {'ev make': 'CUPRA (4)',\n",
       "  'url': 'https://evehiclesdb.com/brands/cupra?category=electric-cars'},\n",
       " {'ev make': 'Dacia (1)',\n",
       "  'url': 'https://evehiclesdb.com/brands/dacia?category=electric-cars'},\n",
       " {'ev make': 'DS (1)',\n",
       "  'url': 'https://evehiclesdb.com/brands/ds?category=electric-cars'},\n",
       " {'ev make': 'Fiat (10)',\n",
       "  'url': 'https://evehiclesdb.com/brands/fiat?category=electric-cars'},\n",
       " {'ev make': 'Fisker (4)',\n",
       "  'url': 'https://evehiclesdb.com/brands/fisker?category=electric-cars'},\n",
       " {'ev make': 'Ford (5)',\n",
       "  'url': 'https://evehiclesdb.com/brands/ford?category=electric-cars'},\n",
       " {'ev make': 'Genesis (2)',\n",
       "  'url': 'https://evehiclesdb.com/brands/genesis?category=electric-cars'},\n",
       " {'ev make': 'Honda (5)',\n",
       "  'url': 'https://evehiclesdb.com/brands/honda?category=electric-cars'},\n",
       " {'ev make': 'Hongqi (2)',\n",
       "  'url': 'https://evehiclesdb.com/brands/hongqi?category=electric-cars'},\n",
       " {'ev make': 'Hyundai (11)',\n",
       "  'url': 'https://evehiclesdb.com/brands/hyundai?category=electric-cars'},\n",
       " {'ev make': 'Jaguar (1)',\n",
       "  'url': 'https://evehiclesdb.com/brands/jaguar?category=electric-cars'},\n",
       " {'ev make': 'KANDI (3)',\n",
       "  'url': 'https://evehiclesdb.com/brands/kandi?category=electric-cars'},\n",
       " {'ev make': 'Kia (8)',\n",
       "  'url': 'https://evehiclesdb.com/brands/kia?category=electric-cars'},\n",
       " {'ev make': 'Lexus (3)',\n",
       "  'url': 'https://evehiclesdb.com/brands/lexus?category=electric-cars'},\n",
       " {'ev make': 'Lightyear (1)',\n",
       "  'url': 'https://evehiclesdb.com/brands/lightyear?category=electric-cars'},\n",
       " {'ev make': 'Lucid (4)',\n",
       "  'url': 'https://evehiclesdb.com/brands/lucid?category=electric-cars'},\n",
       " {'ev make': 'Mazda (2)',\n",
       "  'url': 'https://evehiclesdb.com/brands/mazda?category=electric-cars'},\n",
       " {'ev make': 'Mercedes (13)',\n",
       "  'url': 'https://evehiclesdb.com/brands/mercedes?category=electric-cars'},\n",
       " {'ev make': 'MG (7)',\n",
       "  'url': 'https://evehiclesdb.com/brands/mg?category=electric-cars'},\n",
       " {'ev make': 'Mini (1)',\n",
       "  'url': 'https://evehiclesdb.com/brands/mini?category=electric-cars'},\n",
       " {'ev make': 'Nissan (8)',\n",
       "  'url': 'https://evehiclesdb.com/brands/nissan?category=electric-cars'},\n",
       " {'ev make': 'Opel (6)',\n",
       "  'url': 'https://evehiclesdb.com/brands/opel?category=electric-cars'},\n",
       " {'ev make': 'Peugeot (10)',\n",
       "  'url': 'https://evehiclesdb.com/brands/peugeot?category=electric-cars'},\n",
       " {'ev make': 'Polestar (3)',\n",
       "  'url': 'https://evehiclesdb.com/brands/polestar?category=electric-cars'},\n",
       " {'ev make': 'Porsche (9)',\n",
       "  'url': 'https://evehiclesdb.com/brands/porsche?category=electric-cars'},\n",
       " {'ev make': 'Renault (7)',\n",
       "  'url': 'https://evehiclesdb.com/brands/renault?category=electric-cars'},\n",
       " {'ev make': 'Skoda (6)',\n",
       "  'url': 'https://evehiclesdb.com/brands/skoda?category=electric-cars'},\n",
       " {'ev make': 'Smart (4)',\n",
       "  'url': 'https://evehiclesdb.com/brands/smart?category=electric-cars'},\n",
       " {'ev make': 'Sono (1)',\n",
       "  'url': 'https://evehiclesdb.com/brands/sono?category=electric-cars'},\n",
       " {'ev make': 'Tesla (9)',\n",
       "  'url': 'https://evehiclesdb.com/brands/tesla?category=electric-cars'},\n",
       " {'ev make': 'Toyota (4)',\n",
       "  'url': 'https://evehiclesdb.com/brands/toyota?category=electric-cars'},\n",
       " {'ev make': 'Volkswagen (10)',\n",
       "  'url': 'https://evehiclesdb.com/brands/volkswagen?category=electric-cars'},\n",
       " {'ev make': 'Volvo (4)',\n",
       "  'url': 'https://evehiclesdb.com/brands/volvo?category=electric-cars'},\n",
       " {'ev make': 'XPENG (1)',\n",
       "  'url': 'https://evehiclesdb.com/brands/xpeng?category=electric-cars'},\n",
       " {'ev make': 'ZhiDou (8)',\n",
       "  'url': 'https://evehiclesdb.com/brands/zhi-dou?category=electric-cars'}]"
      ]
     },
     "execution_count": 18,
     "metadata": {},
     "output_type": "execute_result"
    }
   ],
   "source": [
    "ev_makes"
   ]
  },
  {
   "cell_type": "code",
   "execution_count": 45,
   "metadata": {},
   "outputs": [],
   "source": [
    "ev_model = [] #list for all the EV models\n",
    "\n",
    "for model in ev_makes:\n",
    "    driver.get(model['url'])\n",
    "    \n",
    "    ev_models = driver.find_elements(By.CLASS_NAME, \"top_cars_list_item\")\n",
    "    \n",
    "       \n",
    "    for models in ev_models:\n",
    "        #models_url = 'https://evehiclesdb.com/transport/'+ model +'/'\n",
    "        ev_model.append({'ev make': model['ev make'], 'model': models.text})"
   ]
  },
  {
   "cell_type": "code",
   "execution_count": 49,
   "metadata": {},
   "outputs": [],
   "source": [
    "ev_df = pd.DataFrame(ev_model)\n",
    "ev_df['url string'] = ev_df['model'].str.split(' ').str.join(\"-\").str.lower()\n",
    "\n",
    "ev_df['url'] = 'https://evehiclesdb.com/transport/'+ev_df['url string']+'/'\n",
    "\n",
    "#print(ev_df['url'])\n"
   ]
  }
 ],
 "metadata": {
  "kernelspec": {
   "display_name": "Python 3",
   "language": "python",
   "name": "python3"
  },
  "language_info": {
   "codemirror_mode": {
    "name": "ipython",
    "version": 3
   },
   "file_extension": ".py",
   "mimetype": "text/x-python",
   "name": "python",
   "nbconvert_exporter": "python",
   "pygments_lexer": "ipython3",
   "version": "3.9.13"
  },
  "orig_nbformat": 4,
  "vscode": {
   "interpreter": {
    "hash": "b4a410a37008441fbb3377283153b8fbc8d390a35224e9fb1ba178c24071d305"
   }
  }
 },
 "nbformat": 4,
 "nbformat_minor": 2
}
